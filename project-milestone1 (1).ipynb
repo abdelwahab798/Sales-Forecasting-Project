{
 "cells": [
  {
   "cell_type": "code",
   "execution_count": null,
   "id": "8f5463f9",
   "metadata": {},
   "outputs": [],
   "source": [
    "import pandas as pd\n",
    "import seaborn as sns\n",
    "import matplotlib.pyplot as plt\n",
    "import plotly.express as px "
   ]
  },
  {
   "cell_type": "markdown",
   "id": "a7e14609",
   "metadata": {},
   "source": [
    "| العمود               | الوصف                        |\n",
    "|----------------------|------------------------------|\n",
    "| Date                 | التاريخ                      |\n",
    "| Store ID             | كود المتجر                   |\n",
    "| Product ID           | كود المنتج                   |\n",
    "| Category             | فئة المنتج                   |\n",
    "| Region               | المنطقة                      |\n",
    "| Inventory Level      | المخزون الحالي               |\n",
    "| Units Sold           | عدد الوحدات المباعة          |\n",
    "| Units Ordered        | عدد الوحدات المطلوبة         |\n",
    "| Demand Forecast      | التوقعات للطلب              |\n",
    "| Price                | السعر                        |\n",
    "| Discount             | الخصم                        |\n",
    "| Weather Condition    | حالة الطقس                  |\n",
    "| Holiday/Promotion    | هل في عرض أو عطلة            |\n",
    "| Competitor Pricing   | سعر المنافس                  |\n",
    "| Seasonality          | الموسم                       |\n"
   ]
  },
  {
   "cell_type": "code",
   "execution_count": null,
   "id": "397bda4a",
   "metadata": {},
   "outputs": [
    {
     "data": {
      "text/html": [
       "<div>\n",
       "<style scoped>\n",
       "    .dataframe tbody tr th:only-of-type {\n",
       "        vertical-align: middle;\n",
       "    }\n",
       "\n",
       "    .dataframe tbody tr th {\n",
       "        vertical-align: top;\n",
       "    }\n",
       "\n",
       "    .dataframe thead th {\n",
       "        text-align: right;\n",
       "    }\n",
       "</style>\n",
       "<table border=\"1\" class=\"dataframe\">\n",
       "  <thead>\n",
       "    <tr style=\"text-align: right;\">\n",
       "      <th></th>\n",
       "      <th>Date</th>\n",
       "      <th>Store ID</th>\n",
       "      <th>Product ID</th>\n",
       "      <th>Category</th>\n",
       "      <th>Region</th>\n",
       "      <th>Inventory Level</th>\n",
       "      <th>Units Sold</th>\n",
       "      <th>Units Ordered</th>\n",
       "      <th>Demand Forecast</th>\n",
       "      <th>Price</th>\n",
       "      <th>Discount</th>\n",
       "      <th>Weather Condition</th>\n",
       "      <th>Holiday/Promotion</th>\n",
       "      <th>Competitor Pricing</th>\n",
       "      <th>Seasonality</th>\n",
       "    </tr>\n",
       "  </thead>\n",
       "  <tbody>\n",
       "    <tr>\n",
       "      <th>0</th>\n",
       "      <td>2022-01-01</td>\n",
       "      <td>S001</td>\n",
       "      <td>P0001</td>\n",
       "      <td>Groceries</td>\n",
       "      <td>North</td>\n",
       "      <td>231</td>\n",
       "      <td>127</td>\n",
       "      <td>55</td>\n",
       "      <td>135.47</td>\n",
       "      <td>33.50</td>\n",
       "      <td>20</td>\n",
       "      <td>Rainy</td>\n",
       "      <td>0</td>\n",
       "      <td>29.69</td>\n",
       "      <td>Autumn</td>\n",
       "    </tr>\n",
       "    <tr>\n",
       "      <th>1</th>\n",
       "      <td>2022-01-01</td>\n",
       "      <td>S001</td>\n",
       "      <td>P0002</td>\n",
       "      <td>Toys</td>\n",
       "      <td>South</td>\n",
       "      <td>204</td>\n",
       "      <td>150</td>\n",
       "      <td>66</td>\n",
       "      <td>144.04</td>\n",
       "      <td>63.01</td>\n",
       "      <td>20</td>\n",
       "      <td>Sunny</td>\n",
       "      <td>0</td>\n",
       "      <td>66.16</td>\n",
       "      <td>Autumn</td>\n",
       "    </tr>\n",
       "    <tr>\n",
       "      <th>2</th>\n",
       "      <td>2022-01-01</td>\n",
       "      <td>S001</td>\n",
       "      <td>P0003</td>\n",
       "      <td>Toys</td>\n",
       "      <td>West</td>\n",
       "      <td>102</td>\n",
       "      <td>65</td>\n",
       "      <td>51</td>\n",
       "      <td>74.02</td>\n",
       "      <td>27.99</td>\n",
       "      <td>10</td>\n",
       "      <td>Sunny</td>\n",
       "      <td>1</td>\n",
       "      <td>31.32</td>\n",
       "      <td>Summer</td>\n",
       "    </tr>\n",
       "    <tr>\n",
       "      <th>3</th>\n",
       "      <td>2022-01-01</td>\n",
       "      <td>S001</td>\n",
       "      <td>P0004</td>\n",
       "      <td>Toys</td>\n",
       "      <td>North</td>\n",
       "      <td>469</td>\n",
       "      <td>61</td>\n",
       "      <td>164</td>\n",
       "      <td>62.18</td>\n",
       "      <td>32.72</td>\n",
       "      <td>10</td>\n",
       "      <td>Cloudy</td>\n",
       "      <td>1</td>\n",
       "      <td>34.74</td>\n",
       "      <td>Autumn</td>\n",
       "    </tr>\n",
       "    <tr>\n",
       "      <th>4</th>\n",
       "      <td>2022-01-01</td>\n",
       "      <td>S001</td>\n",
       "      <td>P0005</td>\n",
       "      <td>Electronics</td>\n",
       "      <td>East</td>\n",
       "      <td>166</td>\n",
       "      <td>14</td>\n",
       "      <td>135</td>\n",
       "      <td>9.26</td>\n",
       "      <td>73.64</td>\n",
       "      <td>0</td>\n",
       "      <td>Sunny</td>\n",
       "      <td>0</td>\n",
       "      <td>68.95</td>\n",
       "      <td>Summer</td>\n",
       "    </tr>\n",
       "    <tr>\n",
       "      <th>...</th>\n",
       "      <td>...</td>\n",
       "      <td>...</td>\n",
       "      <td>...</td>\n",
       "      <td>...</td>\n",
       "      <td>...</td>\n",
       "      <td>...</td>\n",
       "      <td>...</td>\n",
       "      <td>...</td>\n",
       "      <td>...</td>\n",
       "      <td>...</td>\n",
       "      <td>...</td>\n",
       "      <td>...</td>\n",
       "      <td>...</td>\n",
       "      <td>...</td>\n",
       "      <td>...</td>\n",
       "    </tr>\n",
       "    <tr>\n",
       "      <th>73095</th>\n",
       "      <td>2024-01-01</td>\n",
       "      <td>S005</td>\n",
       "      <td>P0016</td>\n",
       "      <td>Furniture</td>\n",
       "      <td>East</td>\n",
       "      <td>96</td>\n",
       "      <td>8</td>\n",
       "      <td>127</td>\n",
       "      <td>18.46</td>\n",
       "      <td>73.73</td>\n",
       "      <td>20</td>\n",
       "      <td>Snowy</td>\n",
       "      <td>0</td>\n",
       "      <td>72.45</td>\n",
       "      <td>Winter</td>\n",
       "    </tr>\n",
       "    <tr>\n",
       "      <th>73096</th>\n",
       "      <td>2024-01-01</td>\n",
       "      <td>S005</td>\n",
       "      <td>P0017</td>\n",
       "      <td>Toys</td>\n",
       "      <td>North</td>\n",
       "      <td>313</td>\n",
       "      <td>51</td>\n",
       "      <td>101</td>\n",
       "      <td>48.43</td>\n",
       "      <td>82.57</td>\n",
       "      <td>10</td>\n",
       "      <td>Cloudy</td>\n",
       "      <td>0</td>\n",
       "      <td>83.78</td>\n",
       "      <td>Autumn</td>\n",
       "    </tr>\n",
       "    <tr>\n",
       "      <th>73097</th>\n",
       "      <td>2024-01-01</td>\n",
       "      <td>S005</td>\n",
       "      <td>P0018</td>\n",
       "      <td>Clothing</td>\n",
       "      <td>West</td>\n",
       "      <td>278</td>\n",
       "      <td>36</td>\n",
       "      <td>151</td>\n",
       "      <td>39.65</td>\n",
       "      <td>11.11</td>\n",
       "      <td>10</td>\n",
       "      <td>Rainy</td>\n",
       "      <td>0</td>\n",
       "      <td>10.91</td>\n",
       "      <td>Winter</td>\n",
       "    </tr>\n",
       "    <tr>\n",
       "      <th>73098</th>\n",
       "      <td>2024-01-01</td>\n",
       "      <td>S005</td>\n",
       "      <td>P0019</td>\n",
       "      <td>Toys</td>\n",
       "      <td>East</td>\n",
       "      <td>374</td>\n",
       "      <td>264</td>\n",
       "      <td>21</td>\n",
       "      <td>270.52</td>\n",
       "      <td>53.14</td>\n",
       "      <td>20</td>\n",
       "      <td>Rainy</td>\n",
       "      <td>0</td>\n",
       "      <td>55.80</td>\n",
       "      <td>Spring</td>\n",
       "    </tr>\n",
       "    <tr>\n",
       "      <th>73099</th>\n",
       "      <td>2024-01-01</td>\n",
       "      <td>S005</td>\n",
       "      <td>P0020</td>\n",
       "      <td>Groceries</td>\n",
       "      <td>East</td>\n",
       "      <td>117</td>\n",
       "      <td>6</td>\n",
       "      <td>165</td>\n",
       "      <td>2.33</td>\n",
       "      <td>78.39</td>\n",
       "      <td>20</td>\n",
       "      <td>Rainy</td>\n",
       "      <td>1</td>\n",
       "      <td>79.52</td>\n",
       "      <td>Spring</td>\n",
       "    </tr>\n",
       "  </tbody>\n",
       "</table>\n",
       "<p>73100 rows × 15 columns</p>\n",
       "</div>"
      ],
      "text/plain": [
       "             Date Store ID Product ID     Category Region  Inventory Level  \\\n",
       "0      2022-01-01     S001      P0001    Groceries  North              231   \n",
       "1      2022-01-01     S001      P0002         Toys  South              204   \n",
       "2      2022-01-01     S001      P0003         Toys   West              102   \n",
       "3      2022-01-01     S001      P0004         Toys  North              469   \n",
       "4      2022-01-01     S001      P0005  Electronics   East              166   \n",
       "...           ...      ...        ...          ...    ...              ...   \n",
       "73095  2024-01-01     S005      P0016    Furniture   East               96   \n",
       "73096  2024-01-01     S005      P0017         Toys  North              313   \n",
       "73097  2024-01-01     S005      P0018     Clothing   West              278   \n",
       "73098  2024-01-01     S005      P0019         Toys   East              374   \n",
       "73099  2024-01-01     S005      P0020    Groceries   East              117   \n",
       "\n",
       "       Units Sold  Units Ordered  Demand Forecast  Price  Discount  \\\n",
       "0             127             55           135.47  33.50        20   \n",
       "1             150             66           144.04  63.01        20   \n",
       "2              65             51            74.02  27.99        10   \n",
       "3              61            164            62.18  32.72        10   \n",
       "4              14            135             9.26  73.64         0   \n",
       "...           ...            ...              ...    ...       ...   \n",
       "73095           8            127            18.46  73.73        20   \n",
       "73096          51            101            48.43  82.57        10   \n",
       "73097          36            151            39.65  11.11        10   \n",
       "73098         264             21           270.52  53.14        20   \n",
       "73099           6            165             2.33  78.39        20   \n",
       "\n",
       "      Weather Condition  Holiday/Promotion  Competitor Pricing Seasonality  \n",
       "0                 Rainy                  0               29.69      Autumn  \n",
       "1                 Sunny                  0               66.16      Autumn  \n",
       "2                 Sunny                  1               31.32      Summer  \n",
       "3                Cloudy                  1               34.74      Autumn  \n",
       "4                 Sunny                  0               68.95      Summer  \n",
       "...                 ...                ...                 ...         ...  \n",
       "73095             Snowy                  0               72.45      Winter  \n",
       "73096            Cloudy                  0               83.78      Autumn  \n",
       "73097             Rainy                  0               10.91      Winter  \n",
       "73098             Rainy                  0               55.80      Spring  \n",
       "73099             Rainy                  1               79.52      Spring  \n",
       "\n",
       "[73100 rows x 15 columns]"
      ]
     },
     "execution_count": 2,
     "metadata": {},
     "output_type": "execute_result"
    }
   ],
   "source": [
    "df = pd.read_csv(r\"C:\\Users\\nice\\Desktop\\sales-forecasting-project (1)\\sales-forecasting-project\\data\\raw\\retail_store_inventory.csv\")\n",
    "df"
   ]
  },
  {
   "cell_type": "code",
   "execution_count": null,
   "id": "ca022ffb",
   "metadata": {},
   "outputs": [],
   "source": [
    "df['Sales']=(df['Price']*df['Units Sold'])-df['Discount']"
   ]
  },
  {
   "cell_type": "code",
   "execution_count": null,
   "id": "b3bd2a97",
   "metadata": {},
   "outputs": [],
   "source": [
    "df['Date'] = pd.to_datetime(df['Date'])"
   ]
  },
  {
   "cell_type": "code",
   "execution_count": null,
   "id": "d6f25820",
   "metadata": {},
   "outputs": [],
   "source": [
    "df.drop_duplicates(inplace = True)"
   ]
  },
  {
   "cell_type": "code",
   "execution_count": null,
   "id": "6110900c",
   "metadata": {},
   "outputs": [
    {
     "data": {
      "text/html": [
       "<div>\n",
       "<style scoped>\n",
       "    .dataframe tbody tr th:only-of-type {\n",
       "        vertical-align: middle;\n",
       "    }\n",
       "\n",
       "    .dataframe tbody tr th {\n",
       "        vertical-align: top;\n",
       "    }\n",
       "\n",
       "    .dataframe thead th {\n",
       "        text-align: right;\n",
       "    }\n",
       "</style>\n",
       "<table border=\"1\" class=\"dataframe\">\n",
       "  <thead>\n",
       "    <tr style=\"text-align: right;\">\n",
       "      <th></th>\n",
       "      <th>Date</th>\n",
       "      <th>Store ID</th>\n",
       "      <th>Product ID</th>\n",
       "      <th>Category</th>\n",
       "      <th>Region</th>\n",
       "      <th>Inventory Level</th>\n",
       "      <th>Units Sold</th>\n",
       "      <th>Units Ordered</th>\n",
       "      <th>Demand Forecast</th>\n",
       "      <th>Price</th>\n",
       "      <th>Discount</th>\n",
       "      <th>Weather Condition</th>\n",
       "      <th>Holiday/Promotion</th>\n",
       "      <th>Competitor Pricing</th>\n",
       "      <th>Seasonality</th>\n",
       "      <th>Sales</th>\n",
       "    </tr>\n",
       "  </thead>\n",
       "  <tbody>\n",
       "    <tr>\n",
       "      <th>0</th>\n",
       "      <td>2022-01-01</td>\n",
       "      <td>S001</td>\n",
       "      <td>P0001</td>\n",
       "      <td>Groceries</td>\n",
       "      <td>North</td>\n",
       "      <td>231</td>\n",
       "      <td>127</td>\n",
       "      <td>55</td>\n",
       "      <td>135.47</td>\n",
       "      <td>33.50</td>\n",
       "      <td>20</td>\n",
       "      <td>Rainy</td>\n",
       "      <td>0</td>\n",
       "      <td>29.69</td>\n",
       "      <td>Autumn</td>\n",
       "      <td>4234.50</td>\n",
       "    </tr>\n",
       "    <tr>\n",
       "      <th>1</th>\n",
       "      <td>2022-01-01</td>\n",
       "      <td>S001</td>\n",
       "      <td>P0002</td>\n",
       "      <td>Toys</td>\n",
       "      <td>South</td>\n",
       "      <td>204</td>\n",
       "      <td>150</td>\n",
       "      <td>66</td>\n",
       "      <td>144.04</td>\n",
       "      <td>63.01</td>\n",
       "      <td>20</td>\n",
       "      <td>Sunny</td>\n",
       "      <td>0</td>\n",
       "      <td>66.16</td>\n",
       "      <td>Autumn</td>\n",
       "      <td>9431.50</td>\n",
       "    </tr>\n",
       "    <tr>\n",
       "      <th>2</th>\n",
       "      <td>2022-01-01</td>\n",
       "      <td>S001</td>\n",
       "      <td>P0003</td>\n",
       "      <td>Toys</td>\n",
       "      <td>West</td>\n",
       "      <td>102</td>\n",
       "      <td>65</td>\n",
       "      <td>51</td>\n",
       "      <td>74.02</td>\n",
       "      <td>27.99</td>\n",
       "      <td>10</td>\n",
       "      <td>Sunny</td>\n",
       "      <td>1</td>\n",
       "      <td>31.32</td>\n",
       "      <td>Summer</td>\n",
       "      <td>1809.35</td>\n",
       "    </tr>\n",
       "    <tr>\n",
       "      <th>3</th>\n",
       "      <td>2022-01-01</td>\n",
       "      <td>S001</td>\n",
       "      <td>P0004</td>\n",
       "      <td>Toys</td>\n",
       "      <td>North</td>\n",
       "      <td>469</td>\n",
       "      <td>61</td>\n",
       "      <td>164</td>\n",
       "      <td>62.18</td>\n",
       "      <td>32.72</td>\n",
       "      <td>10</td>\n",
       "      <td>Cloudy</td>\n",
       "      <td>1</td>\n",
       "      <td>34.74</td>\n",
       "      <td>Autumn</td>\n",
       "      <td>1985.92</td>\n",
       "    </tr>\n",
       "    <tr>\n",
       "      <th>4</th>\n",
       "      <td>2022-01-01</td>\n",
       "      <td>S001</td>\n",
       "      <td>P0005</td>\n",
       "      <td>Electronics</td>\n",
       "      <td>East</td>\n",
       "      <td>166</td>\n",
       "      <td>14</td>\n",
       "      <td>135</td>\n",
       "      <td>9.26</td>\n",
       "      <td>73.64</td>\n",
       "      <td>0</td>\n",
       "      <td>Sunny</td>\n",
       "      <td>0</td>\n",
       "      <td>68.95</td>\n",
       "      <td>Summer</td>\n",
       "      <td>1030.96</td>\n",
       "    </tr>\n",
       "    <tr>\n",
       "      <th>...</th>\n",
       "      <td>...</td>\n",
       "      <td>...</td>\n",
       "      <td>...</td>\n",
       "      <td>...</td>\n",
       "      <td>...</td>\n",
       "      <td>...</td>\n",
       "      <td>...</td>\n",
       "      <td>...</td>\n",
       "      <td>...</td>\n",
       "      <td>...</td>\n",
       "      <td>...</td>\n",
       "      <td>...</td>\n",
       "      <td>...</td>\n",
       "      <td>...</td>\n",
       "      <td>...</td>\n",
       "      <td>...</td>\n",
       "    </tr>\n",
       "    <tr>\n",
       "      <th>73095</th>\n",
       "      <td>2024-01-01</td>\n",
       "      <td>S005</td>\n",
       "      <td>P0016</td>\n",
       "      <td>Furniture</td>\n",
       "      <td>East</td>\n",
       "      <td>96</td>\n",
       "      <td>8</td>\n",
       "      <td>127</td>\n",
       "      <td>18.46</td>\n",
       "      <td>73.73</td>\n",
       "      <td>20</td>\n",
       "      <td>Snowy</td>\n",
       "      <td>0</td>\n",
       "      <td>72.45</td>\n",
       "      <td>Winter</td>\n",
       "      <td>569.84</td>\n",
       "    </tr>\n",
       "    <tr>\n",
       "      <th>73096</th>\n",
       "      <td>2024-01-01</td>\n",
       "      <td>S005</td>\n",
       "      <td>P0017</td>\n",
       "      <td>Toys</td>\n",
       "      <td>North</td>\n",
       "      <td>313</td>\n",
       "      <td>51</td>\n",
       "      <td>101</td>\n",
       "      <td>48.43</td>\n",
       "      <td>82.57</td>\n",
       "      <td>10</td>\n",
       "      <td>Cloudy</td>\n",
       "      <td>0</td>\n",
       "      <td>83.78</td>\n",
       "      <td>Autumn</td>\n",
       "      <td>4201.07</td>\n",
       "    </tr>\n",
       "    <tr>\n",
       "      <th>73097</th>\n",
       "      <td>2024-01-01</td>\n",
       "      <td>S005</td>\n",
       "      <td>P0018</td>\n",
       "      <td>Clothing</td>\n",
       "      <td>West</td>\n",
       "      <td>278</td>\n",
       "      <td>36</td>\n",
       "      <td>151</td>\n",
       "      <td>39.65</td>\n",
       "      <td>11.11</td>\n",
       "      <td>10</td>\n",
       "      <td>Rainy</td>\n",
       "      <td>0</td>\n",
       "      <td>10.91</td>\n",
       "      <td>Winter</td>\n",
       "      <td>389.96</td>\n",
       "    </tr>\n",
       "    <tr>\n",
       "      <th>73098</th>\n",
       "      <td>2024-01-01</td>\n",
       "      <td>S005</td>\n",
       "      <td>P0019</td>\n",
       "      <td>Toys</td>\n",
       "      <td>East</td>\n",
       "      <td>374</td>\n",
       "      <td>264</td>\n",
       "      <td>21</td>\n",
       "      <td>270.52</td>\n",
       "      <td>53.14</td>\n",
       "      <td>20</td>\n",
       "      <td>Rainy</td>\n",
       "      <td>0</td>\n",
       "      <td>55.80</td>\n",
       "      <td>Spring</td>\n",
       "      <td>14008.96</td>\n",
       "    </tr>\n",
       "    <tr>\n",
       "      <th>73099</th>\n",
       "      <td>2024-01-01</td>\n",
       "      <td>S005</td>\n",
       "      <td>P0020</td>\n",
       "      <td>Groceries</td>\n",
       "      <td>East</td>\n",
       "      <td>117</td>\n",
       "      <td>6</td>\n",
       "      <td>165</td>\n",
       "      <td>2.33</td>\n",
       "      <td>78.39</td>\n",
       "      <td>20</td>\n",
       "      <td>Rainy</td>\n",
       "      <td>1</td>\n",
       "      <td>79.52</td>\n",
       "      <td>Spring</td>\n",
       "      <td>450.34</td>\n",
       "    </tr>\n",
       "  </tbody>\n",
       "</table>\n",
       "<p>73100 rows × 16 columns</p>\n",
       "</div>"
      ],
      "text/plain": [
       "            Date Store ID Product ID     Category Region  Inventory Level  \\\n",
       "0     2022-01-01     S001      P0001    Groceries  North              231   \n",
       "1     2022-01-01     S001      P0002         Toys  South              204   \n",
       "2     2022-01-01     S001      P0003         Toys   West              102   \n",
       "3     2022-01-01     S001      P0004         Toys  North              469   \n",
       "4     2022-01-01     S001      P0005  Electronics   East              166   \n",
       "...          ...      ...        ...          ...    ...              ...   \n",
       "73095 2024-01-01     S005      P0016    Furniture   East               96   \n",
       "73096 2024-01-01     S005      P0017         Toys  North              313   \n",
       "73097 2024-01-01     S005      P0018     Clothing   West              278   \n",
       "73098 2024-01-01     S005      P0019         Toys   East              374   \n",
       "73099 2024-01-01     S005      P0020    Groceries   East              117   \n",
       "\n",
       "       Units Sold  Units Ordered  Demand Forecast  Price  Discount  \\\n",
       "0             127             55           135.47  33.50        20   \n",
       "1             150             66           144.04  63.01        20   \n",
       "2              65             51            74.02  27.99        10   \n",
       "3              61            164            62.18  32.72        10   \n",
       "4              14            135             9.26  73.64         0   \n",
       "...           ...            ...              ...    ...       ...   \n",
       "73095           8            127            18.46  73.73        20   \n",
       "73096          51            101            48.43  82.57        10   \n",
       "73097          36            151            39.65  11.11        10   \n",
       "73098         264             21           270.52  53.14        20   \n",
       "73099           6            165             2.33  78.39        20   \n",
       "\n",
       "      Weather Condition  Holiday/Promotion  Competitor Pricing Seasonality  \\\n",
       "0                 Rainy                  0               29.69      Autumn   \n",
       "1                 Sunny                  0               66.16      Autumn   \n",
       "2                 Sunny                  1               31.32      Summer   \n",
       "3                Cloudy                  1               34.74      Autumn   \n",
       "4                 Sunny                  0               68.95      Summer   \n",
       "...                 ...                ...                 ...         ...   \n",
       "73095             Snowy                  0               72.45      Winter   \n",
       "73096            Cloudy                  0               83.78      Autumn   \n",
       "73097             Rainy                  0               10.91      Winter   \n",
       "73098             Rainy                  0               55.80      Spring   \n",
       "73099             Rainy                  1               79.52      Spring   \n",
       "\n",
       "          Sales  \n",
       "0       4234.50  \n",
       "1       9431.50  \n",
       "2       1809.35  \n",
       "3       1985.92  \n",
       "4       1030.96  \n",
       "...         ...  \n",
       "73095    569.84  \n",
       "73096   4201.07  \n",
       "73097    389.96  \n",
       "73098  14008.96  \n",
       "73099    450.34  \n",
       "\n",
       "[73100 rows x 16 columns]"
      ]
     },
     "execution_count": 6,
     "metadata": {},
     "output_type": "execute_result"
    }
   ],
   "source": [
    "df"
   ]
  },
  {
   "cell_type": "code",
   "execution_count": null,
   "id": "9e04ab0b",
   "metadata": {},
   "outputs": [
    {
     "name": "stdout",
     "output_type": "stream",
     "text": [
      "<class 'pandas.core.frame.DataFrame'>\n",
      "RangeIndex: 73100 entries, 0 to 73099\n",
      "Data columns (total 16 columns):\n",
      " #   Column              Non-Null Count  Dtype         \n",
      "---  ------              --------------  -----         \n",
      " 0   Date                73100 non-null  datetime64[ns]\n",
      " 1   Store ID            73100 non-null  object        \n",
      " 2   Product ID          73100 non-null  object        \n",
      " 3   Category            73100 non-null  object        \n",
      " 4   Region              73100 non-null  object        \n",
      " 5   Inventory Level     73100 non-null  int64         \n",
      " 6   Units Sold          73100 non-null  int64         \n",
      " 7   Units Ordered       73100 non-null  int64         \n",
      " 8   Demand Forecast     73100 non-null  float64       \n",
      " 9   Price               73100 non-null  float64       \n",
      " 10  Discount            73100 non-null  int64         \n",
      " 11  Weather Condition   73100 non-null  object        \n",
      " 12  Holiday/Promotion   73100 non-null  int64         \n",
      " 13  Competitor Pricing  73100 non-null  float64       \n",
      " 14  Seasonality         73100 non-null  object        \n",
      " 15  Sales               73100 non-null  float64       \n",
      "dtypes: datetime64[ns](1), float64(4), int64(5), object(6)\n",
      "memory usage: 8.9+ MB\n"
     ]
    }
   ],
   "source": [
    "df.info()"
   ]
  },
  {
   "cell_type": "code",
   "execution_count": null,
   "id": "661dbb8d",
   "metadata": {},
   "outputs": [
    {
     "data": {
      "text/plain": [
       "Date                  0\n",
       "Store ID              0\n",
       "Product ID            0\n",
       "Category              0\n",
       "Region                0\n",
       "Inventory Level       0\n",
       "Units Sold            0\n",
       "Units Ordered         0\n",
       "Demand Forecast       0\n",
       "Price                 0\n",
       "Discount              0\n",
       "Weather Condition     0\n",
       "Holiday/Promotion     0\n",
       "Competitor Pricing    0\n",
       "Seasonality           0\n",
       "Sales                 0\n",
       "dtype: int64"
      ]
     },
     "execution_count": 8,
     "metadata": {},
     "output_type": "execute_result"
    }
   ],
   "source": [
    "df.isnull().sum()"
   ]
  },
  {
   "cell_type": "code",
   "execution_count": null,
   "id": "46abfad6",
   "metadata": {},
   "outputs": [
    {
     "name": "stdout",
     "output_type": "stream",
     "text": [
      "count    73100.000000\n",
      "mean       136.464870\n",
      "std        108.919406\n",
      "min          0.000000\n",
      "25%         49.000000\n",
      "50%        107.000000\n",
      "75%        203.000000\n",
      "max        499.000000\n",
      "Name: Units Sold, dtype: float64\n",
      "------------------------------------------------------------\n",
      "count    73100.000000\n",
      "mean       110.004473\n",
      "std         52.277448\n",
      "min         20.000000\n",
      "25%         65.000000\n",
      "50%        110.000000\n",
      "75%        155.000000\n",
      "max        200.000000\n",
      "Name: Units Ordered, dtype: float64\n",
      "------------------------------------------------------------\n",
      "count    73100.000000\n",
      "mean       274.469877\n",
      "std        129.949514\n",
      "min         50.000000\n",
      "25%        162.000000\n",
      "50%        273.000000\n",
      "75%        387.000000\n",
      "max        500.000000\n",
      "Name: Inventory Level, dtype: float64\n"
     ]
    }
   ],
   "source": [
    "print(df[\"Units Sold\"].describe())\n",
    "print(\"-\"*60)\n",
    "print(df[\"Units Ordered\"].describe())\n",
    "print(\"-\"*60)\n",
    "print(df[\"Inventory Level\"].describe())\n"
   ]
  },
  {
   "cell_type": "code",
   "execution_count": null,
   "id": "0cbc94a0",
   "metadata": {},
   "outputs": [
    {
     "data": {
      "text/html": [
       "<div>\n",
       "<style scoped>\n",
       "    .dataframe tbody tr th:only-of-type {\n",
       "        vertical-align: middle;\n",
       "    }\n",
       "\n",
       "    .dataframe tbody tr th {\n",
       "        vertical-align: top;\n",
       "    }\n",
       "\n",
       "    .dataframe thead th {\n",
       "        text-align: right;\n",
       "    }\n",
       "</style>\n",
       "<table border=\"1\" class=\"dataframe\">\n",
       "  <thead>\n",
       "    <tr style=\"text-align: right;\">\n",
       "      <th></th>\n",
       "      <th>Date</th>\n",
       "      <th>Store ID</th>\n",
       "      <th>Product ID</th>\n",
       "      <th>Category</th>\n",
       "      <th>Region</th>\n",
       "      <th>Inventory Level</th>\n",
       "      <th>Units Sold</th>\n",
       "      <th>Units Ordered</th>\n",
       "      <th>Demand Forecast</th>\n",
       "      <th>Price</th>\n",
       "      <th>Discount</th>\n",
       "      <th>Weather Condition</th>\n",
       "      <th>Holiday/Promotion</th>\n",
       "      <th>Competitor Pricing</th>\n",
       "      <th>Seasonality</th>\n",
       "      <th>Sales</th>\n",
       "    </tr>\n",
       "  </thead>\n",
       "  <tbody>\n",
       "  </tbody>\n",
       "</table>\n",
       "</div>"
      ],
      "text/plain": [
       "Empty DataFrame\n",
       "Columns: [Date, Store ID, Product ID, Category, Region, Inventory Level, Units Sold, Units Ordered, Demand Forecast, Price, Discount, Weather Condition, Holiday/Promotion, Competitor Pricing, Seasonality, Sales]\n",
       "Index: []"
      ]
     },
     "execution_count": 10,
     "metadata": {},
     "output_type": "execute_result"
    }
   ],
   "source": [
    "df.loc[df[\"Units Ordered\"]+df[\"Inventory Level\"]<df[\"Units Sold\"]]"
   ]
  },
  {
   "cell_type": "code",
   "execution_count": null,
   "id": "5d7edde2",
   "metadata": {},
   "outputs": [
    {
     "data": {
      "text/plain": [
       "<Axes: ylabel='Units Sold'>"
      ]
     },
     "execution_count": 11,
     "metadata": {},
     "output_type": "execute_result"
    },
    {
     "data": {
      "image/png": "[encoded data removed]",
      "text/plain": [
       "<Figure size 640x480 with 1 Axes>"
      ]
     },
     "metadata": {},
     "output_type": "display_data"
    }
   ],
   "source": [
    "sns.boxplot(df[\"Units Sold\"])"
   ]
  },
  {
   "cell_type": "code",
   "execution_count": null,
   "id": "f8d59729",
   "metadata": {},
   "outputs": [
    {
     "data": {
      "text/html": [
       "<div>\n",
       "<style scoped>\n",
       "    .dataframe tbody tr th:only-of-type {\n",
       "        vertical-align: middle;\n",
       "    }\n",
       "\n",
       "    .dataframe tbody tr th {\n",
       "        vertical-align: top;\n",
       "    }\n",
       "\n",
       "    .dataframe thead th {\n",
       "        text-align: right;\n",
       "    }\n",
       "</style>\n",
       "<table border=\"1\" class=\"dataframe\">\n",
       "  <thead>\n",
       "    <tr style=\"text-align: right;\">\n",
       "      <th></th>\n",
       "      <th>Date</th>\n",
       "      <th>Store ID</th>\n",
       "      <th>Product ID</th>\n",
       "      <th>Category</th>\n",
       "      <th>Region</th>\n",
       "      <th>Inventory Level</th>\n",
       "      <th>Units Sold</th>\n",
       "      <th>Units Ordered</th>\n",
       "      <th>Demand Forecast</th>\n",
       "      <th>Price</th>\n",
       "      <th>Discount</th>\n",
       "      <th>Weather Condition</th>\n",
       "      <th>Holiday/Promotion</th>\n",
       "      <th>Competitor Pricing</th>\n",
       "      <th>Seasonality</th>\n",
       "      <th>Sales</th>\n",
       "    </tr>\n",
       "  </thead>\n",
       "  <tbody>\n",
       "    <tr>\n",
       "      <th>0</th>\n",
       "      <td>2022-01-01</td>\n",
       "      <td>S001</td>\n",
       "      <td>P0001</td>\n",
       "      <td>Groceries</td>\n",
       "      <td>North</td>\n",
       "      <td>231</td>\n",
       "      <td>127</td>\n",
       "      <td>55</td>\n",
       "      <td>135.47</td>\n",
       "      <td>33.50</td>\n",
       "      <td>20</td>\n",
       "      <td>Rainy</td>\n",
       "      <td>0</td>\n",
       "      <td>29.69</td>\n",
       "      <td>Autumn</td>\n",
       "      <td>4234.50</td>\n",
       "    </tr>\n",
       "    <tr>\n",
       "      <th>1</th>\n",
       "      <td>2022-01-01</td>\n",
       "      <td>S001</td>\n",
       "      <td>P0002</td>\n",
       "      <td>Toys</td>\n",
       "      <td>South</td>\n",
       "      <td>204</td>\n",
       "      <td>150</td>\n",
       "      <td>66</td>\n",
       "      <td>144.04</td>\n",
       "      <td>63.01</td>\n",
       "      <td>20</td>\n",
       "      <td>Sunny</td>\n",
       "      <td>0</td>\n",
       "      <td>66.16</td>\n",
       "      <td>Autumn</td>\n",
       "      <td>9431.50</td>\n",
       "    </tr>\n",
       "    <tr>\n",
       "      <th>2</th>\n",
       "      <td>2022-01-01</td>\n",
       "      <td>S001</td>\n",
       "      <td>P0003</td>\n",
       "      <td>Toys</td>\n",
       "      <td>West</td>\n",
       "      <td>102</td>\n",
       "      <td>65</td>\n",
       "      <td>51</td>\n",
       "      <td>74.02</td>\n",
       "      <td>27.99</td>\n",
       "      <td>10</td>\n",
       "      <td>Sunny</td>\n",
       "      <td>1</td>\n",
       "      <td>31.32</td>\n",
       "      <td>Summer</td>\n",
       "      <td>1809.35</td>\n",
       "    </tr>\n",
       "    <tr>\n",
       "      <th>3</th>\n",
       "      <td>2022-01-01</td>\n",
       "      <td>S001</td>\n",
       "      <td>P0004</td>\n",
       "      <td>Toys</td>\n",
       "      <td>North</td>\n",
       "      <td>469</td>\n",
       "      <td>61</td>\n",
       "      <td>164</td>\n",
       "      <td>62.18</td>\n",
       "      <td>32.72</td>\n",
       "      <td>10</td>\n",
       "      <td>Cloudy</td>\n",
       "      <td>1</td>\n",
       "      <td>34.74</td>\n",
       "      <td>Autumn</td>\n",
       "      <td>1985.92</td>\n",
       "    </tr>\n",
       "    <tr>\n",
       "      <th>4</th>\n",
       "      <td>2022-01-01</td>\n",
       "      <td>S001</td>\n",
       "      <td>P0005</td>\n",
       "      <td>Electronics</td>\n",
       "      <td>East</td>\n",
       "      <td>166</td>\n",
       "      <td>14</td>\n",
       "      <td>135</td>\n",
       "      <td>9.26</td>\n",
       "      <td>73.64</td>\n",
       "      <td>0</td>\n",
       "      <td>Sunny</td>\n",
       "      <td>0</td>\n",
       "      <td>68.95</td>\n",
       "      <td>Summer</td>\n",
       "      <td>1030.96</td>\n",
       "    </tr>\n",
       "    <tr>\n",
       "      <th>...</th>\n",
       "      <td>...</td>\n",
       "      <td>...</td>\n",
       "      <td>...</td>\n",
       "      <td>...</td>\n",
       "      <td>...</td>\n",
       "      <td>...</td>\n",
       "      <td>...</td>\n",
       "      <td>...</td>\n",
       "      <td>...</td>\n",
       "      <td>...</td>\n",
       "      <td>...</td>\n",
       "      <td>...</td>\n",
       "      <td>...</td>\n",
       "      <td>...</td>\n",
       "      <td>...</td>\n",
       "      <td>...</td>\n",
       "    </tr>\n",
       "    <tr>\n",
       "      <th>73095</th>\n",
       "      <td>2024-01-01</td>\n",
       "      <td>S005</td>\n",
       "      <td>P0016</td>\n",
       "      <td>Furniture</td>\n",
       "      <td>East</td>\n",
       "      <td>96</td>\n",
       "      <td>8</td>\n",
       "      <td>127</td>\n",
       "      <td>18.46</td>\n",
       "      <td>73.73</td>\n",
       "      <td>20</td>\n",
       "      <td>Snowy</td>\n",
       "      <td>0</td>\n",
       "      <td>72.45</td>\n",
       "      <td>Winter</td>\n",
       "      <td>569.84</td>\n",
       "    </tr>\n",
       "    <tr>\n",
       "      <th>73096</th>\n",
       "      <td>2024-01-01</td>\n",
       "      <td>S005</td>\n",
       "      <td>P0017</td>\n",
       "      <td>Toys</td>\n",
       "      <td>North</td>\n",
       "      <td>313</td>\n",
       "      <td>51</td>\n",
       "      <td>101</td>\n",
       "      <td>48.43</td>\n",
       "      <td>82.57</td>\n",
       "      <td>10</td>\n",
       "      <td>Cloudy</td>\n",
       "      <td>0</td>\n",
       "      <td>83.78</td>\n",
       "      <td>Autumn</td>\n",
       "      <td>4201.07</td>\n",
       "    </tr>\n",
       "    <tr>\n",
       "      <th>73097</th>\n",
       "      <td>2024-01-01</td>\n",
       "      <td>S005</td>\n",
       "      <td>P0018</td>\n",
       "      <td>Clothing</td>\n",
       "      <td>West</td>\n",
       "      <td>278</td>\n",
       "      <td>36</td>\n",
       "      <td>151</td>\n",
       "      <td>39.65</td>\n",
       "      <td>11.11</td>\n",
       "      <td>10</td>\n",
       "      <td>Rainy</td>\n",
       "      <td>0</td>\n",
       "      <td>10.91</td>\n",
       "      <td>Winter</td>\n",
       "      <td>389.96</td>\n",
       "    </tr>\n",
       "    <tr>\n",
       "      <th>73098</th>\n",
       "      <td>2024-01-01</td>\n",
       "      <td>S005</td>\n",
       "      <td>P0019</td>\n",
       "      <td>Toys</td>\n",
       "      <td>East</td>\n",
       "      <td>374</td>\n",
       "      <td>264</td>\n",
       "      <td>21</td>\n",
       "      <td>270.52</td>\n",
       "      <td>53.14</td>\n",
       "      <td>20</td>\n",
       "      <td>Rainy</td>\n",
       "      <td>0</td>\n",
       "      <td>55.80</td>\n",
       "      <td>Spring</td>\n",
       "      <td>14008.96</td>\n",
       "    </tr>\n",
       "    <tr>\n",
       "      <th>73099</th>\n",
       "      <td>2024-01-01</td>\n",
       "      <td>S005</td>\n",
       "      <td>P0020</td>\n",
       "      <td>Groceries</td>\n",
       "      <td>East</td>\n",
       "      <td>117</td>\n",
       "      <td>6</td>\n",
       "      <td>165</td>\n",
       "      <td>2.33</td>\n",
       "      <td>78.39</td>\n",
       "      <td>20</td>\n",
       "      <td>Rainy</td>\n",
       "      <td>1</td>\n",
       "      <td>79.52</td>\n",
       "      <td>Spring</td>\n",
       "      <td>450.34</td>\n",
       "    </tr>\n",
       "  </tbody>\n",
       "</table>\n",
       "<p>73100 rows × 16 columns</p>\n",
       "</div>"
      ],
      "text/plain": [
       "            Date Store ID Product ID     Category Region  Inventory Level  \\\n",
       "0     2022-01-01     S001      P0001    Groceries  North              231   \n",
       "1     2022-01-01     S001      P0002         Toys  South              204   \n",
       "2     2022-01-01     S001      P0003         Toys   West              102   \n",
       "3     2022-01-01     S001      P0004         Toys  North              469   \n",
       "4     2022-01-01     S001      P0005  Electronics   East              166   \n",
       "...          ...      ...        ...          ...    ...              ...   \n",
       "73095 2024-01-01     S005      P0016    Furniture   East               96   \n",
       "73096 2024-01-01     S005      P0017         Toys  North              313   \n",
       "73097 2024-01-01     S005      P0018     Clothing   West              278   \n",
       "73098 2024-01-01     S005      P0019         Toys   East              374   \n",
       "73099 2024-01-01     S005      P0020    Groceries   East              117   \n",
       "\n",
       "       Units Sold  Units Ordered  Demand Forecast  Price  Discount  \\\n",
       "0             127             55           135.47  33.50        20   \n",
       "1             150             66           144.04  63.01        20   \n",
       "2              65             51            74.02  27.99        10   \n",
       "3              61            164            62.18  32.72        10   \n",
       "4              14            135             9.26  73.64         0   \n",
       "...           ...            ...              ...    ...       ...   \n",
       "73095           8            127            18.46  73.73        20   \n",
       "73096          51            101            48.43  82.57        10   \n",
       "73097          36            151            39.65  11.11        10   \n",
       "73098         264             21           270.52  53.14        20   \n",
       "73099           6            165             2.33  78.39        20   \n",
       "\n",
       "      Weather Condition  Holiday/Promotion  Competitor Pricing Seasonality  \\\n",
       "0                 Rainy                  0               29.69      Autumn   \n",
       "1                 Sunny                  0               66.16      Autumn   \n",
       "2                 Sunny                  1               31.32      Summer   \n",
       "3                Cloudy                  1               34.74      Autumn   \n",
       "4                 Sunny                  0               68.95      Summer   \n",
       "...                 ...                ...                 ...         ...   \n",
       "73095             Snowy                  0               72.45      Winter   \n",
       "73096            Cloudy                  0               83.78      Autumn   \n",
       "73097             Rainy                  0               10.91      Winter   \n",
       "73098             Rainy                  0               55.80      Spring   \n",
       "73099             Rainy                  1               79.52      Spring   \n",
       "\n",
       "          Sales  \n",
       "0       4234.50  \n",
       "1       9431.50  \n",
       "2       1809.35  \n",
       "3       1985.92  \n",
       "4       1030.96  \n",
       "...         ...  \n",
       "73095    569.84  \n",
       "73096   4201.07  \n",
       "73097    389.96  \n",
       "73098  14008.96  \n",
       "73099    450.34  \n",
       "\n",
       "[73100 rows x 16 columns]"
      ]
     },
     "execution_count": 12,
     "metadata": {},
     "output_type": "execute_result"
    }
   ],
   "source": [
    "df"
   ]
  },
  {
   "cell_type": "code",
   "execution_count": null,
   "id": "0042afb0",
   "metadata": {},
   "outputs": [
    {
     "data": {
      "text/plain": [
       "count    673.000000\n",
       "mean       2.912333\n",
       "std        2.533651\n",
       "min        0.000000\n",
       "25%        1.000000\n",
       "50%        2.000000\n",
       "75%        5.000000\n",
       "max        9.000000\n",
       "Name: Units Sold, dtype: float64"
      ]
     },
     "execution_count": 13,
     "metadata": {},
     "output_type": "execute_result"
    }
   ],
   "source": [
    "a=df.loc[df[\"Demand Forecast\"]<=0]\n",
    "a[\"Units Sold\"].describe()"
   ]
  },
  {
   "cell_type": "code",
   "execution_count": null,
   "id": "00620f03",
   "metadata": {},
   "outputs": [
    {
     "name": "stdout",
     "output_type": "stream",
     "text": [
      "count    73100.000000\n",
      "mean       141.494720\n",
      "std        109.254076\n",
      "min         -9.990000\n",
      "25%         53.670000\n",
      "50%        113.015000\n",
      "75%        208.052500\n",
      "max        518.550000\n",
      "Name: Demand Forecast, dtype: float64\n"
     ]
    }
   ],
   "source": [
    "print(df[\"Demand Forecast\"].describe())"
   ]
  },
  {
   "cell_type": "code",
   "execution_count": null,
   "id": "a44c14b0",
   "metadata": {},
   "outputs": [],
   "source": [
    "df[\"Date\"]=pd.to_datetime(df[\"Date\"])\n",
    "df[\"year\"]=df[\"Date\"].dt.year\n",
    "df[\"month\"]=df[\"Date\"].dt.month\n",
    "df[\"dayofweek\"]=df[\"Date\"].dt.dayofweek"
   ]
  },
  {
   "cell_type": "code",
   "execution_count": null,
   "id": "6cd81438",
   "metadata": {},
   "outputs": [
    {
     "name": "stdout",
     "output_type": "stream",
     "text": [
      "       Units Sold  Demand Forecast\n",
      "count  673.000000       673.000000\n",
      "mean     2.912333        -3.693730\n",
      "std      2.533651         2.535978\n",
      "min      0.000000        -9.990000\n",
      "25%      1.000000        -5.470000\n",
      "50%      2.000000        -3.380000\n",
      "75%      5.000000        -1.540000\n",
      "max      9.000000        -0.010000\n"
     ]
    },
    {
     "data": {
      "text/html": [
       "<div>\n",
       "<style scoped>\n",
       "    .dataframe tbody tr th:only-of-type {\n",
       "        vertical-align: middle;\n",
       "    }\n",
       "\n",
       "    .dataframe tbody tr th {\n",
       "        vertical-align: top;\n",
       "    }\n",
       "\n",
       "    .dataframe thead th {\n",
       "        text-align: right;\n",
       "    }\n",
       "</style>\n",
       "<table border=\"1\" class=\"dataframe\">\n",
       "  <thead>\n",
       "    <tr style=\"text-align: right;\">\n",
       "      <th></th>\n",
       "      <th>Units Sold</th>\n",
       "      <th>Demand Forecast</th>\n",
       "    </tr>\n",
       "  </thead>\n",
       "  <tbody>\n",
       "    <tr>\n",
       "      <th>68261</th>\n",
       "      <td>1</td>\n",
       "      <td>-0.01</td>\n",
       "    </tr>\n",
       "    <tr>\n",
       "      <th>1398</th>\n",
       "      <td>0</td>\n",
       "      <td>-0.03</td>\n",
       "    </tr>\n",
       "    <tr>\n",
       "      <th>16796</th>\n",
       "      <td>1</td>\n",
       "      <td>-0.04</td>\n",
       "    </tr>\n",
       "    <tr>\n",
       "      <th>61504</th>\n",
       "      <td>3</td>\n",
       "      <td>-0.05</td>\n",
       "    </tr>\n",
       "    <tr>\n",
       "      <th>50040</th>\n",
       "      <td>3</td>\n",
       "      <td>-0.05</td>\n",
       "    </tr>\n",
       "    <tr>\n",
       "      <th>61558</th>\n",
       "      <td>8</td>\n",
       "      <td>-0.06</td>\n",
       "    </tr>\n",
       "    <tr>\n",
       "      <th>27576</th>\n",
       "      <td>3</td>\n",
       "      <td>-0.08</td>\n",
       "    </tr>\n",
       "    <tr>\n",
       "      <th>21707</th>\n",
       "      <td>1</td>\n",
       "      <td>-0.09</td>\n",
       "    </tr>\n",
       "    <tr>\n",
       "      <th>46936</th>\n",
       "      <td>0</td>\n",
       "      <td>-0.09</td>\n",
       "    </tr>\n",
       "    <tr>\n",
       "      <th>40311</th>\n",
       "      <td>8</td>\n",
       "      <td>-0.10</td>\n",
       "    </tr>\n",
       "    <tr>\n",
       "      <th>69249</th>\n",
       "      <td>7</td>\n",
       "      <td>-0.10</td>\n",
       "    </tr>\n",
       "    <tr>\n",
       "      <th>21338</th>\n",
       "      <td>1</td>\n",
       "      <td>-0.10</td>\n",
       "    </tr>\n",
       "    <tr>\n",
       "      <th>7589</th>\n",
       "      <td>8</td>\n",
       "      <td>-0.11</td>\n",
       "    </tr>\n",
       "    <tr>\n",
       "      <th>1149</th>\n",
       "      <td>6</td>\n",
       "      <td>-0.11</td>\n",
       "    </tr>\n",
       "    <tr>\n",
       "      <th>20439</th>\n",
       "      <td>6</td>\n",
       "      <td>-0.11</td>\n",
       "    </tr>\n",
       "    <tr>\n",
       "      <th>11505</th>\n",
       "      <td>7</td>\n",
       "      <td>-0.12</td>\n",
       "    </tr>\n",
       "    <tr>\n",
       "      <th>45518</th>\n",
       "      <td>0</td>\n",
       "      <td>-0.12</td>\n",
       "    </tr>\n",
       "    <tr>\n",
       "      <th>24327</th>\n",
       "      <td>0</td>\n",
       "      <td>-0.12</td>\n",
       "    </tr>\n",
       "    <tr>\n",
       "      <th>70880</th>\n",
       "      <td>3</td>\n",
       "      <td>-0.13</td>\n",
       "    </tr>\n",
       "    <tr>\n",
       "      <th>22249</th>\n",
       "      <td>0</td>\n",
       "      <td>-0.14</td>\n",
       "    </tr>\n",
       "  </tbody>\n",
       "</table>\n",
       "</div>"
      ],
      "text/plain": [
       "       Units Sold  Demand Forecast\n",
       "68261           1            -0.01\n",
       "1398            0            -0.03\n",
       "16796           1            -0.04\n",
       "61504           3            -0.05\n",
       "50040           3            -0.05\n",
       "61558           8            -0.06\n",
       "27576           3            -0.08\n",
       "21707           1            -0.09\n",
       "46936           0            -0.09\n",
       "40311           8            -0.10\n",
       "69249           7            -0.10\n",
       "21338           1            -0.10\n",
       "7589            8            -0.11\n",
       "1149            6            -0.11\n",
       "20439           6            -0.11\n",
       "11505           7            -0.12\n",
       "45518           0            -0.12\n",
       "24327           0            -0.12\n",
       "70880           3            -0.13\n",
       "22249           0            -0.14"
      ]
     },
     "execution_count": 16,
     "metadata": {},
     "output_type": "execute_result"
    }
   ],
   "source": [
    "a = df.loc[df[\"Demand Forecast\"] < 0]\n",
    "print(a[[\"Units Sold\", \"Demand Forecast\"]].describe())\n",
    "a[[\"Units Sold\", \"Demand Forecast\"]].sort_values(by=\"Demand Forecast\", ascending = False).head(20)\n",
    "\n"
   ]
  },
  {
   "cell_type": "code",
   "execution_count": null,
   "id": "db6fd89a",
   "metadata": {},
   "outputs": [],
   "source": [
    "df=df[df['Demand Forecast']>=0]\n"
   ]
  },
  {
   "cell_type": "code",
   "execution_count": null,
   "id": "ea297b5d",
   "metadata": {},
   "outputs": [
    {
     "data": {
      "text/plain": [
       "count    72427.000000\n",
       "mean       142.843828\n",
       "std        108.855924\n",
       "min          0.010000\n",
       "25%         55.005000\n",
       "50%        114.450000\n",
       "75%        209.200000\n",
       "max        518.550000\n",
       "Name: Demand Forecast, dtype: float64"
      ]
     },
     "execution_count": 18,
     "metadata": {},
     "output_type": "execute_result"
    }
   ],
   "source": [
    "df=df[df[\"Demand Forecast\"]>0]\n",
    "df[\"Demand Forecast\"].describe()"
   ]
  },
  {
   "cell_type": "code",
   "execution_count": null,
   "id": "6d2bd841",
   "metadata": {},
   "outputs": [
    {
     "data": {
      "text/html": [
       "<div>\n",
       "<style scoped>\n",
       "    .dataframe tbody tr th:only-of-type {\n",
       "        vertical-align: middle;\n",
       "    }\n",
       "\n",
       "    .dataframe tbody tr th {\n",
       "        vertical-align: top;\n",
       "    }\n",
       "\n",
       "    .dataframe thead th {\n",
       "        text-align: right;\n",
       "    }\n",
       "</style>\n",
       "<table border=\"1\" class=\"dataframe\">\n",
       "  <thead>\n",
       "    <tr style=\"text-align: right;\">\n",
       "      <th></th>\n",
       "      <th>Date</th>\n",
       "      <th>month</th>\n",
       "      <th>Seasonality</th>\n",
       "    </tr>\n",
       "  </thead>\n",
       "  <tbody>\n",
       "    <tr>\n",
       "      <th>0</th>\n",
       "      <td>2022-01-01</td>\n",
       "      <td>1</td>\n",
       "      <td>Winter</td>\n",
       "    </tr>\n",
       "    <tr>\n",
       "      <th>1</th>\n",
       "      <td>2022-01-01</td>\n",
       "      <td>1</td>\n",
       "      <td>Winter</td>\n",
       "    </tr>\n",
       "    <tr>\n",
       "      <th>2</th>\n",
       "      <td>2022-01-01</td>\n",
       "      <td>1</td>\n",
       "      <td>Winter</td>\n",
       "    </tr>\n",
       "    <tr>\n",
       "      <th>3</th>\n",
       "      <td>2022-01-01</td>\n",
       "      <td>1</td>\n",
       "      <td>Winter</td>\n",
       "    </tr>\n",
       "    <tr>\n",
       "      <th>4</th>\n",
       "      <td>2022-01-01</td>\n",
       "      <td>1</td>\n",
       "      <td>Winter</td>\n",
       "    </tr>\n",
       "  </tbody>\n",
       "</table>\n",
       "</div>"
      ],
      "text/plain": [
       "        Date  month Seasonality\n",
       "0 2022-01-01      1      Winter\n",
       "1 2022-01-01      1      Winter\n",
       "2 2022-01-01      1      Winter\n",
       "3 2022-01-01      1      Winter\n",
       "4 2022-01-01      1      Winter"
      ]
     },
     "execution_count": 19,
     "metadata": {},
     "output_type": "execute_result"
    }
   ],
   "source": [
    "def get_season(month):\n",
    "    if month in [12, 1, 2]:\n",
    "        return 'Winter'\n",
    "    elif month in [3, 4, 5]:\n",
    "        return 'Spring'\n",
    "    elif month in [6, 7, 8]:\n",
    "        return 'Summer'\n",
    "    else:\n",
    "        return 'Autumn'\n",
    "df['Seasonality'] = df['month'].apply(get_season)\n",
    "df[['Date', 'month', 'Seasonality']].head()"
   ]
  },
  {
   "cell_type": "code",
   "execution_count": null,
   "id": "0f8d8ae9",
   "metadata": {},
   "outputs": [
    {
     "data": {
      "text/html": [
       "<div>\n",
       "<style scoped>\n",
       "    .dataframe tbody tr th:only-of-type {\n",
       "        vertical-align: middle;\n",
       "    }\n",
       "\n",
       "    .dataframe tbody tr th {\n",
       "        vertical-align: top;\n",
       "    }\n",
       "\n",
       "    .dataframe thead th {\n",
       "        text-align: right;\n",
       "    }\n",
       "</style>\n",
       "<table border=\"1\" class=\"dataframe\">\n",
       "  <thead>\n",
       "    <tr style=\"text-align: right;\">\n",
       "      <th></th>\n",
       "      <th>month</th>\n",
       "      <th>Seasonality</th>\n",
       "    </tr>\n",
       "  </thead>\n",
       "  <tbody>\n",
       "    <tr>\n",
       "      <th>0</th>\n",
       "      <td>1</td>\n",
       "      <td>Winter</td>\n",
       "    </tr>\n",
       "    <tr>\n",
       "      <th>1</th>\n",
       "      <td>1</td>\n",
       "      <td>Winter</td>\n",
       "    </tr>\n",
       "    <tr>\n",
       "      <th>2</th>\n",
       "      <td>1</td>\n",
       "      <td>Winter</td>\n",
       "    </tr>\n",
       "    <tr>\n",
       "      <th>3</th>\n",
       "      <td>1</td>\n",
       "      <td>Winter</td>\n",
       "    </tr>\n",
       "    <tr>\n",
       "      <th>4</th>\n",
       "      <td>1</td>\n",
       "      <td>Winter</td>\n",
       "    </tr>\n",
       "    <tr>\n",
       "      <th>5</th>\n",
       "      <td>1</td>\n",
       "      <td>Winter</td>\n",
       "    </tr>\n",
       "    <tr>\n",
       "      <th>6</th>\n",
       "      <td>1</td>\n",
       "      <td>Winter</td>\n",
       "    </tr>\n",
       "    <tr>\n",
       "      <th>7</th>\n",
       "      <td>1</td>\n",
       "      <td>Winter</td>\n",
       "    </tr>\n",
       "    <tr>\n",
       "      <th>8</th>\n",
       "      <td>1</td>\n",
       "      <td>Winter</td>\n",
       "    </tr>\n",
       "    <tr>\n",
       "      <th>9</th>\n",
       "      <td>1</td>\n",
       "      <td>Winter</td>\n",
       "    </tr>\n",
       "  </tbody>\n",
       "</table>\n",
       "</div>"
      ],
      "text/plain": [
       "   month Seasonality\n",
       "0      1      Winter\n",
       "1      1      Winter\n",
       "2      1      Winter\n",
       "3      1      Winter\n",
       "4      1      Winter\n",
       "5      1      Winter\n",
       "6      1      Winter\n",
       "7      1      Winter\n",
       "8      1      Winter\n",
       "9      1      Winter"
      ]
     },
     "execution_count": 20,
     "metadata": {},
     "output_type": "execute_result"
    }
   ],
   "source": [
    "df[[\"month\",\"Seasonality\"]].head(10)"
   ]
  },
  {
   "cell_type": "code",
   "execution_count": null,
   "id": "4609b241",
   "metadata": {},
   "outputs": [
    {
     "name": "stderr",
     "output_type": "stream",
     "text": [
      "C:\\Users\\nice\\AppData\\Local\\Temp\\ipykernel_17328\\1279442989.py:1: FutureWarning: 'M' is deprecated and will be removed in a future version, please use 'ME' instead.\n",
      "  monthy_sales = df.groupby(pd.Grouper(key='Date', freq='M'))[['Units Sold']].sum().reset_index()\n"
     ]
    }
   ],
   "source": [
    "monthy_sales = df.groupby(pd.Grouper(key='Date', freq='M'))[['Units Sold']].sum().reset_index()"
   ]
  },
  {
   "cell_type": "code",
   "execution_count": null,
   "id": "843d9417",
   "metadata": {},
   "outputs": [
    {
     "data": {
      "text/html": [
       "<div>\n",
       "<style scoped>\n",
       "    .dataframe tbody tr th:only-of-type {\n",
       "        vertical-align: middle;\n",
       "    }\n",
       "\n",
       "    .dataframe tbody tr th {\n",
       "        vertical-align: top;\n",
       "    }\n",
       "\n",
       "    .dataframe thead th {\n",
       "        text-align: right;\n",
       "    }\n",
       "</style>\n",
       "<table border=\"1\" class=\"dataframe\">\n",
       "  <thead>\n",
       "    <tr style=\"text-align: right;\">\n",
       "      <th></th>\n",
       "      <th>Date</th>\n",
       "      <th>Units Sold</th>\n",
       "    </tr>\n",
       "  </thead>\n",
       "  <tbody>\n",
       "    <tr>\n",
       "      <th>24</th>\n",
       "      <td>2024-01-31</td>\n",
       "      <td>13236</td>\n",
       "    </tr>\n",
       "    <tr>\n",
       "      <th>23</th>\n",
       "      <td>2023-12-31</td>\n",
       "      <td>418562</td>\n",
       "    </tr>\n",
       "    <tr>\n",
       "      <th>22</th>\n",
       "      <td>2023-11-30</td>\n",
       "      <td>416043</td>\n",
       "    </tr>\n",
       "    <tr>\n",
       "      <th>21</th>\n",
       "      <td>2023-10-31</td>\n",
       "      <td>425514</td>\n",
       "    </tr>\n",
       "    <tr>\n",
       "      <th>20</th>\n",
       "      <td>2023-09-30</td>\n",
       "      <td>405252</td>\n",
       "    </tr>\n",
       "    <tr>\n",
       "      <th>19</th>\n",
       "      <td>2023-08-31</td>\n",
       "      <td>416426</td>\n",
       "    </tr>\n",
       "    <tr>\n",
       "      <th>18</th>\n",
       "      <td>2023-07-31</td>\n",
       "      <td>437824</td>\n",
       "    </tr>\n",
       "    <tr>\n",
       "      <th>17</th>\n",
       "      <td>2023-06-30</td>\n",
       "      <td>405547</td>\n",
       "    </tr>\n",
       "    <tr>\n",
       "      <th>16</th>\n",
       "      <td>2023-05-31</td>\n",
       "      <td>418572</td>\n",
       "    </tr>\n",
       "    <tr>\n",
       "      <th>15</th>\n",
       "      <td>2023-04-30</td>\n",
       "      <td>400976</td>\n",
       "    </tr>\n",
       "    <tr>\n",
       "      <th>14</th>\n",
       "      <td>2023-03-31</td>\n",
       "      <td>416443</td>\n",
       "    </tr>\n",
       "    <tr>\n",
       "      <th>13</th>\n",
       "      <td>2023-02-28</td>\n",
       "      <td>385100</td>\n",
       "    </tr>\n",
       "    <tr>\n",
       "      <th>12</th>\n",
       "      <td>2023-01-31</td>\n",
       "      <td>423319</td>\n",
       "    </tr>\n",
       "    <tr>\n",
       "      <th>11</th>\n",
       "      <td>2022-12-31</td>\n",
       "      <td>412268</td>\n",
       "    </tr>\n",
       "    <tr>\n",
       "      <th>10</th>\n",
       "      <td>2022-11-30</td>\n",
       "      <td>414471</td>\n",
       "    </tr>\n",
       "    <tr>\n",
       "      <th>9</th>\n",
       "      <td>2022-10-31</td>\n",
       "      <td>426795</td>\n",
       "    </tr>\n",
       "    <tr>\n",
       "      <th>8</th>\n",
       "      <td>2022-09-30</td>\n",
       "      <td>411523</td>\n",
       "    </tr>\n",
       "    <tr>\n",
       "      <th>7</th>\n",
       "      <td>2022-08-31</td>\n",
       "      <td>424847</td>\n",
       "    </tr>\n",
       "    <tr>\n",
       "      <th>6</th>\n",
       "      <td>2022-07-31</td>\n",
       "      <td>426553</td>\n",
       "    </tr>\n",
       "    <tr>\n",
       "      <th>5</th>\n",
       "      <td>2022-06-30</td>\n",
       "      <td>415452</td>\n",
       "    </tr>\n",
       "    <tr>\n",
       "      <th>4</th>\n",
       "      <td>2022-05-31</td>\n",
       "      <td>414739</td>\n",
       "    </tr>\n",
       "    <tr>\n",
       "      <th>3</th>\n",
       "      <td>2022-04-30</td>\n",
       "      <td>407298</td>\n",
       "    </tr>\n",
       "    <tr>\n",
       "      <th>2</th>\n",
       "      <td>2022-03-31</td>\n",
       "      <td>426024</td>\n",
       "    </tr>\n",
       "    <tr>\n",
       "      <th>1</th>\n",
       "      <td>2022-02-28</td>\n",
       "      <td>390984</td>\n",
       "    </tr>\n",
       "    <tr>\n",
       "      <th>0</th>\n",
       "      <td>2022-01-31</td>\n",
       "      <td>419854</td>\n",
       "    </tr>\n",
       "  </tbody>\n",
       "</table>\n",
       "</div>"
      ],
      "text/plain": [
       "         Date  Units Sold\n",
       "24 2024-01-31       13236\n",
       "23 2023-12-31      418562\n",
       "22 2023-11-30      416043\n",
       "21 2023-10-31      425514\n",
       "20 2023-09-30      405252\n",
       "19 2023-08-31      416426\n",
       "18 2023-07-31      437824\n",
       "17 2023-06-30      405547\n",
       "16 2023-05-31      418572\n",
       "15 2023-04-30      400976\n",
       "14 2023-03-31      416443\n",
       "13 2023-02-28      385100\n",
       "12 2023-01-31      423319\n",
       "11 2022-12-31      412268\n",
       "10 2022-11-30      414471\n",
       "9  2022-10-31      426795\n",
       "8  2022-09-30      411523\n",
       "7  2022-08-31      424847\n",
       "6  2022-07-31      426553\n",
       "5  2022-06-30      415452\n",
       "4  2022-05-31      414739\n",
       "3  2022-04-30      407298\n",
       "2  2022-03-31      426024\n",
       "1  2022-02-28      390984\n",
       "0  2022-01-31      419854"
      ]
     },
     "execution_count": 22,
     "metadata": {},
     "output_type": "execute_result"
    }
   ],
   "source": [
    "monthy_sales = pd.DataFrame(monthy_sales )\n",
    "monthy_sales.sort_values(by=\"Date\", ascending=False, inplace=True)\n",
    "monthy_sales"
   ]
  },
  {
   "cell_type": "code",
   "execution_count": null,
   "id": "4ad7b4c9",
   "metadata": {},
   "outputs": [],
   "source": [
    "monthly_avg = df.groupby('month')[['Sales']].mean().reset_index()\n",
    "weekday_avg = df.groupby('dayofweek')[['Sales']].mean().reset_index()"
   ]
  },
  {
   "cell_type": "code",
   "execution_count": null,
   "id": "cd6d87a2",
   "metadata": {},
   "outputs": [
    {
     "name": "stdout",
     "output_type": "stream",
     "text": [
      "    month        Sales\n",
      "0       1  7526.564094\n",
      "1       2  7669.124811\n",
      "2       3  7690.676637\n",
      "3       4  7568.460330\n",
      "4       5  7440.933844\n",
      "5       6  7670.283794\n",
      "6       7  7698.556848\n",
      "7       8  7500.745891\n",
      "8       9  7564.020797\n",
      "9      10  7585.571379\n",
      "10     11  7745.712928\n",
      "11     12  7381.148355\n"
     ]
    },
    {
     "data": {
      "text/plain": [
       "Text(0.5, 1.0, 'Average Monthly Sales')"
      ]
     },
     "execution_count": 24,
     "metadata": {},
     "output_type": "execute_result"
    },
    {
     "data": {
      "image/png": "[encoded data removed]",
      "text/plain": [
       "<Figure size 640x480 with 1 Axes>"
      ]
     },
     "metadata": {},
     "output_type": "display_data"
    }
   ],
   "source": [
    "print(monthly_avg)\n",
    "sns.barplot(x='month', y='Sales', data=monthly_avg,color='blue',alpha=0.5)\n",
    "plt.title('Average Monthly Sales')"
   ]
  },
  {
   "cell_type": "code",
   "execution_count": null,
   "id": "344a1977",
   "metadata": {},
   "outputs": [
    {
     "name": "stdout",
     "output_type": "stream",
     "text": [
      "   dayofweek        Sales\n",
      "0          0  7481.462206\n",
      "1          1  7539.144624\n",
      "2          2  7582.613728\n",
      "3          3  7651.273573\n",
      "4          4  7648.685313\n",
      "5          5  7542.871788\n",
      "6          6  7653.317873\n"
     ]
    },
    {
     "data": {
      "text/plain": [
       "Text(0.5, 1.0, 'Average Weekly Sales')"
      ]
     },
     "execution_count": 25,
     "metadata": {},
     "output_type": "execute_result"
    },
    {
     "data": {
      "image/png": "[encoded data removed]",
      "text/plain": [
       "<Figure size 640x480 with 1 Axes>"
      ]
     },
     "metadata": {},
     "output_type": "display_data"
    }
   ],
   "source": [
    "print(weekday_avg)\n",
    "sns.barplot(x='dayofweek', y='Sales', data=weekday_avg,color='blue',alpha=0.5)\n",
    "plt.title('Average Weekly Sales')"
   ]
  },
  {
   "cell_type": "code",
   "execution_count": null,
   "id": "271981c7",
   "metadata": {},
   "outputs": [
    {
     "name": "stdout",
     "output_type": "stream",
     "text": [
      "      Category        Sales\n",
      "3    Groceries  7659.506863\n",
      "2    Furniture  7641.917404\n",
      "0     Clothing  7553.934984\n",
      "4         Toys  7548.285481\n",
      "1  Electronics  7523.196308\n"
     ]
    },
    {
     "data": {
      "text/plain": [
       "Text(0.5, 1.0, 'Average Sales by Category')"
      ]
     },
     "execution_count": 26,
     "metadata": {},
     "output_type": "execute_result"
    },
    {
     "data": {
      "image/png": "[encoded data removed]",
      "text/plain": [
       "<Figure size 640x480 with 1 Axes>"
      ]
     },
     "metadata": {},
     "output_type": "display_data"
    }
   ],
   "source": [
    "category_sales = df.groupby('Category')[\"Sales\"].mean().reset_index()\n",
    "category_sales.sort_values(by=\"Sales\", ascending=False, inplace=True)\n",
    "print(category_sales)\n",
    "sns.barplot(x='Category', y='Sales', data=category_sales, color='blue', alpha=0.5)\n",
    "plt.title('Average Sales by Category')"
   ]
  },
  {
   "cell_type": "code",
   "execution_count": null,
   "id": "11b7d6f2",
   "metadata": {},
   "outputs": [
    {
     "name": "stdout",
     "output_type": "stream",
     "text": [
      "   Holiday/Promotion        Sales\n",
      "0                  0  7584.275829\n",
      "1                  1  7586.704307\n"
     ]
    },
    {
     "data": {
      "text/plain": [
       "Text(0.5, 1.0, 'Average Units Sold by Holiday/Promotion')"
      ]
     },
     "execution_count": 27,
     "metadata": {},
     "output_type": "execute_result"
    },
    {
     "data": {
      "image/png": "[encoded data removed]",
      "text/plain": [
       "<Figure size 640x480 with 1 Axes>"
      ]
     },
     "metadata": {},
     "output_type": "display_data"
    }
   ],
   "source": [
    "promo_sales = df.groupby(\"Holiday/Promotion\")[['Sales']].mean().reset_index()\n",
    "print(promo_sales )\n",
    "sns.barplot(x='Holiday/Promotion', y='Sales', data=promo_sales, color='blue', alpha=0.5)\n",
    "plt.title(\"Average Units Sold by Holiday/Promotion\")"
   ]
  },
  {
   "cell_type": "code",
   "execution_count": null,
   "id": "e43b0f5a",
   "metadata": {},
   "outputs": [
    {
     "name": "stdout",
     "output_type": "stream",
     "text": [
      "  Region        Sales\n",
      "0   East  7627.722735\n",
      "1  North  7587.384592\n",
      "2  South  7619.283986\n",
      "3   West  7507.148002\n"
     ]
    },
    {
     "data": {
      "text/plain": [
       "Text(0.5, 1.0, 'Region vs Units Sold')"
      ]
     },
     "execution_count": 28,
     "metadata": {},
     "output_type": "execute_result"
    },
    {
     "data": {
      "image/png": "[encoded data removed]",
      "text/plain": [
       "<Figure size 640x480 with 1 Axes>"
      ]
     },
     "metadata": {},
     "output_type": "display_data"
    }
   ],
   "source": [
    "reigon_sales = df.groupby('Region')[['Sales']].mean().reset_index()\n",
    "print(reigon_sales)\n",
    "sns.barplot(x='Region', y='Sales', data=reigon_sales, color='blue', alpha=0.5)\n",
    "plt.title(\"Region vs Units Sold\")"
   ]
  },
  {
   "cell_type": "code",
   "execution_count": null,
   "id": "1e48a361",
   "metadata": {},
   "outputs": [
    {
     "data": {
      "text/plain": [
       "Region\n",
       "East     [S001, S002, S003, S004, S005]\n",
       "North    [S001, S002, S003, S004, S005]\n",
       "South    [S001, S002, S003, S004, S005]\n",
       "West     [S001, S002, S003, S004, S005]\n",
       "Name: Store ID, dtype: object"
      ]
     },
     "execution_count": 29,
     "metadata": {},
     "output_type": "execute_result"
    }
   ],
   "source": [
    "df[\"Store ID\"].groupby(df[\"Region\"]).unique()"
   ]
  },
  {
   "cell_type": "code",
   "execution_count": null,
   "id": "94046123",
   "metadata": {},
   "outputs": [
    {
     "name": "stdout",
     "output_type": "stream",
     "text": [
      "   Region Store ID        Sales\n",
      "0    East     S001  7388.859846\n",
      "1    East     S002  7690.478731\n",
      "2    East     S003  7642.266151\n",
      "3    East     S004  7544.366796\n",
      "4    East     S005  7870.355146\n",
      "5   North     S001  7495.762302\n",
      "6   North     S002  7689.084905\n",
      "7   North     S003  7543.784076\n",
      "8   North     S004  7566.033343\n",
      "9   North     S005  7643.611057\n",
      "10  South     S001  7404.822386\n",
      "11  South     S002  7479.149263\n",
      "12  South     S003  7919.850381\n",
      "13  South     S004  7420.684320\n",
      "14  South     S005  7870.046302\n",
      "15   West     S001  7552.988492\n",
      "16   West     S002  7489.809639\n",
      "17   West     S003  7603.588216\n",
      "18   West     S004  7477.967182\n",
      "19   West     S005  7412.074315\n"
     ]
    },
    {
     "name": "stderr",
     "output_type": "stream",
     "text": [
      "C:\\Users\\nice\\AppData\\Local\\Temp\\ipykernel_17328\\94973003.py:5: FutureWarning: \n",
      "\n",
      "Setting a gradient palette using color= is deprecated and will be removed in v0.14.0. Set `palette='dark:blue'` for the same effect.\n",
      "\n",
      "  a=sns.barplot(x='Store ID', y='Sales', hue=\"Region\",data=store_sales, color='blue')\n"
     ]
    },
    {
     "data": {
      "text/plain": [
       "Text(0.5, 1.0, 'Store Sales by Region')"
      ]
     },
     "execution_count": 30,
     "metadata": {},
     "output_type": "execute_result"
    },
    {
     "data": {
      "image/png": "[encoded data removed]",
      "text/plain": [
       "<Figure size 1000x600 with 1 Axes>"
      ]
     },
     "metadata": {},
     "output_type": "display_data"
    }
   ],
   "source": [
    "store_sales = df.groupby(['Region', 'Store ID'])['Sales'].mean().reset_index()\n",
    "print(store_sales)\n",
    "store_sales.sort_values(by=\"Sales\", ascending=False,inplace=True)\n",
    "plt.figure(figsize=(10, 6))\n",
    "a=sns.barplot(x='Store ID', y='Sales', hue=\"Region\",data=store_sales, color='blue')\n",
    "sns.move_legend(a,\"upper right\", bbox_to_anchor=(1.2, 1), title=\"Region\")\n",
    "plt.title(\"Store Sales by Region\")"
   ]
  },
  {
   "cell_type": "code",
   "execution_count": null,
   "id": "e0f58254",
   "metadata": {},
   "outputs": [
    {
     "data": {
      "text/html": [
       "<div>\n",
       "<style scoped>\n",
       "    .dataframe tbody tr th:only-of-type {\n",
       "        vertical-align: middle;\n",
       "    }\n",
       "\n",
       "    .dataframe tbody tr th {\n",
       "        vertical-align: top;\n",
       "    }\n",
       "\n",
       "    .dataframe thead th {\n",
       "        text-align: right;\n",
       "    }\n",
       "</style>\n",
       "<table border=\"1\" class=\"dataframe\">\n",
       "  <thead>\n",
       "    <tr style=\"text-align: right;\">\n",
       "      <th></th>\n",
       "      <th>Region</th>\n",
       "      <th>Date</th>\n",
       "      <th>Sales</th>\n",
       "    </tr>\n",
       "  </thead>\n",
       "  <tbody>\n",
       "    <tr>\n",
       "      <th>0</th>\n",
       "      <td>East</td>\n",
       "      <td>2022-01-01</td>\n",
       "      <td>9639.718235</td>\n",
       "    </tr>\n",
       "    <tr>\n",
       "      <th>1</th>\n",
       "      <td>East</td>\n",
       "      <td>2022-01-02</td>\n",
       "      <td>9578.534138</td>\n",
       "    </tr>\n",
       "    <tr>\n",
       "      <th>2</th>\n",
       "      <td>East</td>\n",
       "      <td>2022-01-03</td>\n",
       "      <td>6007.806500</td>\n",
       "    </tr>\n",
       "    <tr>\n",
       "      <th>3</th>\n",
       "      <td>East</td>\n",
       "      <td>2022-01-04</td>\n",
       "      <td>6470.334348</td>\n",
       "    </tr>\n",
       "    <tr>\n",
       "      <th>4</th>\n",
       "      <td>East</td>\n",
       "      <td>2022-01-05</td>\n",
       "      <td>7721.911071</td>\n",
       "    </tr>\n",
       "    <tr>\n",
       "      <th>5</th>\n",
       "      <td>East</td>\n",
       "      <td>2022-01-06</td>\n",
       "      <td>8751.780800</td>\n",
       "    </tr>\n",
       "    <tr>\n",
       "      <th>6</th>\n",
       "      <td>East</td>\n",
       "      <td>2022-01-07</td>\n",
       "      <td>7249.425217</td>\n",
       "    </tr>\n",
       "    <tr>\n",
       "      <th>7</th>\n",
       "      <td>East</td>\n",
       "      <td>2022-01-08</td>\n",
       "      <td>8436.439545</td>\n",
       "    </tr>\n",
       "    <tr>\n",
       "      <th>8</th>\n",
       "      <td>East</td>\n",
       "      <td>2022-01-09</td>\n",
       "      <td>11631.895185</td>\n",
       "    </tr>\n",
       "    <tr>\n",
       "      <th>9</th>\n",
       "      <td>East</td>\n",
       "      <td>2022-01-10</td>\n",
       "      <td>8285.883333</td>\n",
       "    </tr>\n",
       "    <tr>\n",
       "      <th>10</th>\n",
       "      <td>East</td>\n",
       "      <td>2022-01-11</td>\n",
       "      <td>6292.543750</td>\n",
       "    </tr>\n",
       "    <tr>\n",
       "      <th>11</th>\n",
       "      <td>East</td>\n",
       "      <td>2022-01-12</td>\n",
       "      <td>8256.213214</td>\n",
       "    </tr>\n",
       "    <tr>\n",
       "      <th>12</th>\n",
       "      <td>East</td>\n",
       "      <td>2022-01-13</td>\n",
       "      <td>4954.626552</td>\n",
       "    </tr>\n",
       "    <tr>\n",
       "      <th>13</th>\n",
       "      <td>East</td>\n",
       "      <td>2022-01-14</td>\n",
       "      <td>5061.652917</td>\n",
       "    </tr>\n",
       "    <tr>\n",
       "      <th>14</th>\n",
       "      <td>East</td>\n",
       "      <td>2022-01-15</td>\n",
       "      <td>6271.282500</td>\n",
       "    </tr>\n",
       "    <tr>\n",
       "      <th>15</th>\n",
       "      <td>East</td>\n",
       "      <td>2022-01-16</td>\n",
       "      <td>7749.720645</td>\n",
       "    </tr>\n",
       "    <tr>\n",
       "      <th>16</th>\n",
       "      <td>East</td>\n",
       "      <td>2022-01-17</td>\n",
       "      <td>7712.199000</td>\n",
       "    </tr>\n",
       "    <tr>\n",
       "      <th>17</th>\n",
       "      <td>East</td>\n",
       "      <td>2022-01-18</td>\n",
       "      <td>7512.986875</td>\n",
       "    </tr>\n",
       "    <tr>\n",
       "      <th>18</th>\n",
       "      <td>East</td>\n",
       "      <td>2022-01-19</td>\n",
       "      <td>6747.012414</td>\n",
       "    </tr>\n",
       "    <tr>\n",
       "      <th>19</th>\n",
       "      <td>East</td>\n",
       "      <td>2022-01-20</td>\n",
       "      <td>8777.306400</td>\n",
       "    </tr>\n",
       "    <tr>\n",
       "      <th>20</th>\n",
       "      <td>East</td>\n",
       "      <td>2022-01-21</td>\n",
       "      <td>6056.306111</td>\n",
       "    </tr>\n",
       "    <tr>\n",
       "      <th>21</th>\n",
       "      <td>East</td>\n",
       "      <td>2022-01-22</td>\n",
       "      <td>7500.931053</td>\n",
       "    </tr>\n",
       "    <tr>\n",
       "      <th>22</th>\n",
       "      <td>East</td>\n",
       "      <td>2022-01-23</td>\n",
       "      <td>5839.033929</td>\n",
       "    </tr>\n",
       "    <tr>\n",
       "      <th>23</th>\n",
       "      <td>East</td>\n",
       "      <td>2022-01-24</td>\n",
       "      <td>7440.563462</td>\n",
       "    </tr>\n",
       "    <tr>\n",
       "      <th>24</th>\n",
       "      <td>East</td>\n",
       "      <td>2022-01-25</td>\n",
       "      <td>5871.181154</td>\n",
       "    </tr>\n",
       "    <tr>\n",
       "      <th>25</th>\n",
       "      <td>East</td>\n",
       "      <td>2022-01-26</td>\n",
       "      <td>6955.551200</td>\n",
       "    </tr>\n",
       "    <tr>\n",
       "      <th>26</th>\n",
       "      <td>East</td>\n",
       "      <td>2022-01-27</td>\n",
       "      <td>7868.252800</td>\n",
       "    </tr>\n",
       "    <tr>\n",
       "      <th>27</th>\n",
       "      <td>East</td>\n",
       "      <td>2022-01-28</td>\n",
       "      <td>8146.145000</td>\n",
       "    </tr>\n",
       "    <tr>\n",
       "      <th>28</th>\n",
       "      <td>East</td>\n",
       "      <td>2022-01-29</td>\n",
       "      <td>11386.343000</td>\n",
       "    </tr>\n",
       "    <tr>\n",
       "      <th>29</th>\n",
       "      <td>East</td>\n",
       "      <td>2022-01-30</td>\n",
       "      <td>9633.855417</td>\n",
       "    </tr>\n",
       "    <tr>\n",
       "      <th>30</th>\n",
       "      <td>East</td>\n",
       "      <td>2022-01-31</td>\n",
       "      <td>5948.383846</td>\n",
       "    </tr>\n",
       "    <tr>\n",
       "      <th>31</th>\n",
       "      <td>East</td>\n",
       "      <td>2022-02-01</td>\n",
       "      <td>7115.339643</td>\n",
       "    </tr>\n",
       "    <tr>\n",
       "      <th>32</th>\n",
       "      <td>East</td>\n",
       "      <td>2022-02-02</td>\n",
       "      <td>4768.128261</td>\n",
       "    </tr>\n",
       "    <tr>\n",
       "      <th>33</th>\n",
       "      <td>East</td>\n",
       "      <td>2022-02-03</td>\n",
       "      <td>7541.335862</td>\n",
       "    </tr>\n",
       "    <tr>\n",
       "      <th>34</th>\n",
       "      <td>East</td>\n",
       "      <td>2022-02-04</td>\n",
       "      <td>6853.564138</td>\n",
       "    </tr>\n",
       "    <tr>\n",
       "      <th>35</th>\n",
       "      <td>East</td>\n",
       "      <td>2022-02-05</td>\n",
       "      <td>8047.815517</td>\n",
       "    </tr>\n",
       "    <tr>\n",
       "      <th>36</th>\n",
       "      <td>East</td>\n",
       "      <td>2022-02-06</td>\n",
       "      <td>6743.947500</td>\n",
       "    </tr>\n",
       "    <tr>\n",
       "      <th>37</th>\n",
       "      <td>East</td>\n",
       "      <td>2022-02-07</td>\n",
       "      <td>6688.843214</td>\n",
       "    </tr>\n",
       "    <tr>\n",
       "      <th>38</th>\n",
       "      <td>East</td>\n",
       "      <td>2022-02-08</td>\n",
       "      <td>4756.435455</td>\n",
       "    </tr>\n",
       "    <tr>\n",
       "      <th>39</th>\n",
       "      <td>East</td>\n",
       "      <td>2022-02-09</td>\n",
       "      <td>4502.507273</td>\n",
       "    </tr>\n",
       "  </tbody>\n",
       "</table>\n",
       "</div>"
      ],
      "text/plain": [
       "   Region       Date         Sales\n",
       "0    East 2022-01-01   9639.718235\n",
       "1    East 2022-01-02   9578.534138\n",
       "2    East 2022-01-03   6007.806500\n",
       "3    East 2022-01-04   6470.334348\n",
       "4    East 2022-01-05   7721.911071\n",
       "5    East 2022-01-06   8751.780800\n",
       "6    East 2022-01-07   7249.425217\n",
       "7    East 2022-01-08   8436.439545\n",
       "8    East 2022-01-09  11631.895185\n",
       "9    East 2022-01-10   8285.883333\n",
       "10   East 2022-01-11   6292.543750\n",
       "11   East 2022-01-12   8256.213214\n",
       "12   East 2022-01-13   4954.626552\n",
       "13   East 2022-01-14   5061.652917\n",
       "14   East 2022-01-15   6271.282500\n",
       "15   East 2022-01-16   7749.720645\n",
       "16   East 2022-01-17   7712.199000\n",
       "17   East 2022-01-18   7512.986875\n",
       "18   East 2022-01-19   6747.012414\n",
       "19   East 2022-01-20   8777.306400\n",
       "20   East 2022-01-21   6056.306111\n",
       "21   East 2022-01-22   7500.931053\n",
       "22   East 2022-01-23   5839.033929\n",
       "23   East 2022-01-24   7440.563462\n",
       "24   East 2022-01-25   5871.181154\n",
       "25   East 2022-01-26   6955.551200\n",
       "26   East 2022-01-27   7868.252800\n",
       "27   East 2022-01-28   8146.145000\n",
       "28   East 2022-01-29  11386.343000\n",
       "29   East 2022-01-30   9633.855417\n",
       "30   East 2022-01-31   5948.383846\n",
       "31   East 2022-02-01   7115.339643\n",
       "32   East 2022-02-02   4768.128261\n",
       "33   East 2022-02-03   7541.335862\n",
       "34   East 2022-02-04   6853.564138\n",
       "35   East 2022-02-05   8047.815517\n",
       "36   East 2022-02-06   6743.947500\n",
       "37   East 2022-02-07   6688.843214\n",
       "38   East 2022-02-08   4756.435455\n",
       "39   East 2022-02-09   4502.507273"
      ]
     },
     "execution_count": 31,
     "metadata": {},
     "output_type": "execute_result"
    }
   ],
   "source": [
    "daily_sales = df.groupby(['Region', 'Date'])['Sales'].mean().reset_index()\n",
    "daily_sales.head(40)"
   ]
  },
  {
   "cell_type": "code",
   "execution_count": null,
   "id": "0f5e735c",
   "metadata": {},
   "outputs": [
    {
     "data": {
      "text/html": [
       "<div>\n",
       "<style scoped>\n",
       "    .dataframe tbody tr th:only-of-type {\n",
       "        vertical-align: middle;\n",
       "    }\n",
       "\n",
       "    .dataframe tbody tr th {\n",
       "        vertical-align: top;\n",
       "    }\n",
       "\n",
       "    .dataframe thead th {\n",
       "        text-align: right;\n",
       "    }\n",
       "</style>\n",
       "<table border=\"1\" class=\"dataframe\">\n",
       "  <thead>\n",
       "    <tr style=\"text-align: right;\">\n",
       "      <th></th>\n",
       "      <th>Date</th>\n",
       "      <th>Inventory Level</th>\n",
       "      <th>Units Sold</th>\n",
       "      <th>Units Ordered</th>\n",
       "      <th>Demand Forecast</th>\n",
       "      <th>Price</th>\n",
       "      <th>Discount</th>\n",
       "      <th>Holiday/Promotion</th>\n",
       "      <th>Competitor Pricing</th>\n",
       "      <th>Sales</th>\n",
       "      <th>year</th>\n",
       "      <th>month</th>\n",
       "      <th>dayofweek</th>\n",
       "    </tr>\n",
       "  </thead>\n",
       "  <tbody>\n",
       "    <tr>\n",
       "      <th>count</th>\n",
       "      <td>72427</td>\n",
       "      <td>72427.00000</td>\n",
       "      <td>72427.000000</td>\n",
       "      <td>72427.000000</td>\n",
       "      <td>72427.000000</td>\n",
       "      <td>72427.000000</td>\n",
       "      <td>72427.000000</td>\n",
       "      <td>72427.000000</td>\n",
       "      <td>72427.000000</td>\n",
       "      <td>72427.000000</td>\n",
       "      <td>72427.000000</td>\n",
       "      <td>72427.000000</td>\n",
       "      <td>72427.00000</td>\n",
       "    </tr>\n",
       "    <tr>\n",
       "      <th>mean</th>\n",
       "      <td>2022-12-31 19:03:08.432490496</td>\n",
       "      <td>275.16509</td>\n",
       "      <td>137.705856</td>\n",
       "      <td>110.019385</td>\n",
       "      <td>142.843828</td>\n",
       "      <td>55.130557</td>\n",
       "      <td>10.010217</td>\n",
       "      <td>0.497453</td>\n",
       "      <td>55.144279</td>\n",
       "      <td>7585.483882</td>\n",
       "      <td>2022.501443</td>\n",
       "      <td>6.518923</td>\n",
       "      <td>3.00185</td>\n",
       "    </tr>\n",
       "    <tr>\n",
       "      <th>min</th>\n",
       "      <td>2022-01-01 00:00:00</td>\n",
       "      <td>50.00000</td>\n",
       "      <td>0.000000</td>\n",
       "      <td>20.000000</td>\n",
       "      <td>0.010000</td>\n",
       "      <td>10.000000</td>\n",
       "      <td>0.000000</td>\n",
       "      <td>0.000000</td>\n",
       "      <td>5.030000</td>\n",
       "      <td>-20.000000</td>\n",
       "      <td>2022.000000</td>\n",
       "      <td>1.000000</td>\n",
       "      <td>0.00000</td>\n",
       "    </tr>\n",
       "    <tr>\n",
       "      <th>25%</th>\n",
       "      <td>2022-07-02 00:00:00</td>\n",
       "      <td>163.00000</td>\n",
       "      <td>50.000000</td>\n",
       "      <td>65.000000</td>\n",
       "      <td>55.005000</td>\n",
       "      <td>32.635000</td>\n",
       "      <td>5.000000</td>\n",
       "      <td>0.000000</td>\n",
       "      <td>32.660000</td>\n",
       "      <td>2082.475000</td>\n",
       "      <td>2022.000000</td>\n",
       "      <td>4.000000</td>\n",
       "      <td>1.00000</td>\n",
       "    </tr>\n",
       "    <tr>\n",
       "      <th>50%</th>\n",
       "      <td>2023-01-01 00:00:00</td>\n",
       "      <td>274.00000</td>\n",
       "      <td>109.000000</td>\n",
       "      <td>110.000000</td>\n",
       "      <td>114.450000</td>\n",
       "      <td>55.050000</td>\n",
       "      <td>10.000000</td>\n",
       "      <td>0.000000</td>\n",
       "      <td>55.020000</td>\n",
       "      <td>5017.270000</td>\n",
       "      <td>2023.000000</td>\n",
       "      <td>7.000000</td>\n",
       "      <td>3.00000</td>\n",
       "    </tr>\n",
       "    <tr>\n",
       "      <th>75%</th>\n",
       "      <td>2023-07-03 00:00:00</td>\n",
       "      <td>387.00000</td>\n",
       "      <td>204.000000</td>\n",
       "      <td>155.000000</td>\n",
       "      <td>209.200000</td>\n",
       "      <td>77.860000</td>\n",
       "      <td>15.000000</td>\n",
       "      <td>1.000000</td>\n",
       "      <td>77.830000</td>\n",
       "      <td>10685.930000</td>\n",
       "      <td>2023.000000</td>\n",
       "      <td>10.000000</td>\n",
       "      <td>5.00000</td>\n",
       "    </tr>\n",
       "    <tr>\n",
       "      <th>max</th>\n",
       "      <td>2024-01-01 00:00:00</td>\n",
       "      <td>500.00000</td>\n",
       "      <td>499.000000</td>\n",
       "      <td>200.000000</td>\n",
       "      <td>518.550000</td>\n",
       "      <td>100.000000</td>\n",
       "      <td>20.000000</td>\n",
       "      <td>1.000000</td>\n",
       "      <td>104.940000</td>\n",
       "      <td>47855.470000</td>\n",
       "      <td>2024.000000</td>\n",
       "      <td>12.000000</td>\n",
       "      <td>6.00000</td>\n",
       "    </tr>\n",
       "    <tr>\n",
       "      <th>std</th>\n",
       "      <td>NaN</td>\n",
       "      <td>129.76765</td>\n",
       "      <td>108.656966</td>\n",
       "      <td>52.279517</td>\n",
       "      <td>108.855924</td>\n",
       "      <td>26.025696</td>\n",
       "      <td>7.083303</td>\n",
       "      <td>0.499997</td>\n",
       "      <td>26.197211</td>\n",
       "      <td>7538.739426</td>\n",
       "      <td>0.502700</td>\n",
       "      <td>3.452089</td>\n",
       "      <td>2.00382</td>\n",
       "    </tr>\n",
       "  </tbody>\n",
       "</table>\n",
       "</div>"
      ],
      "text/plain": [
       "                                Date  Inventory Level    Units Sold  \\\n",
       "count                          72427      72427.00000  72427.000000   \n",
       "mean   2022-12-31 19:03:08.432490496        275.16509    137.705856   \n",
       "min              2022-01-01 00:00:00         50.00000      0.000000   \n",
       "25%              2022-07-02 00:00:00        163.00000     50.000000   \n",
       "50%              2023-01-01 00:00:00        274.00000    109.000000   \n",
       "75%              2023-07-03 00:00:00        387.00000    204.000000   \n",
       "max              2024-01-01 00:00:00        500.00000    499.000000   \n",
       "std                              NaN        129.76765    108.656966   \n",
       "\n",
       "       Units Ordered  Demand Forecast         Price      Discount  \\\n",
       "count   72427.000000     72427.000000  72427.000000  72427.000000   \n",
       "mean      110.019385       142.843828     55.130557     10.010217   \n",
       "min        20.000000         0.010000     10.000000      0.000000   \n",
       "25%        65.000000        55.005000     32.635000      5.000000   \n",
       "50%       110.000000       114.450000     55.050000     10.000000   \n",
       "75%       155.000000       209.200000     77.860000     15.000000   \n",
       "max       200.000000       518.550000    100.000000     20.000000   \n",
       "std        52.279517       108.855924     26.025696      7.083303   \n",
       "\n",
       "       Holiday/Promotion  Competitor Pricing         Sales          year  \\\n",
       "count       72427.000000        72427.000000  72427.000000  72427.000000   \n",
       "mean            0.497453           55.144279   7585.483882   2022.501443   \n",
       "min             0.000000            5.030000    -20.000000   2022.000000   \n",
       "25%             0.000000           32.660000   2082.475000   2022.000000   \n",
       "50%             0.000000           55.020000   5017.270000   2023.000000   \n",
       "75%             1.000000           77.830000  10685.930000   2023.000000   \n",
       "max             1.000000          104.940000  47855.470000   2024.000000   \n",
       "std             0.499997           26.197211   7538.739426      0.502700   \n",
       "\n",
       "              month    dayofweek  \n",
       "count  72427.000000  72427.00000  \n",
       "mean       6.518923      3.00185  \n",
       "min        1.000000      0.00000  \n",
       "25%        4.000000      1.00000  \n",
       "50%        7.000000      3.00000  \n",
       "75%       10.000000      5.00000  \n",
       "max       12.000000      6.00000  \n",
       "std        3.452089      2.00382  "
      ]
     },
     "execution_count": 32,
     "metadata": {},
     "output_type": "execute_result"
    }
   ],
   "source": [
    "df.describe()"
   ]
  },
  {
   "cell_type": "code",
   "execution_count": null,
   "id": "fa40d5b3",
   "metadata": {},
   "outputs": [
    {
     "data": {
      "image/png": "[encoded data removed]",
      "text/plain": [
       "<Figure size 1000x600 with 1 Axes>"
      ]
     },
     "metadata": {},
     "output_type": "display_data"
    }
   ],
   "source": [
    "plt.figure(figsize=(10,6))\n",
    "sns.boxplot(data=df[['Demand Forecast','Units Sold',\"Sales\"]])\n",
    "plt.title('Box plot')\n",
    "plt.show()"
   ]
  },
  {
   "cell_type": "code",
   "execution_count": null,
   "id": "20971e1b",
   "metadata": {},
   "outputs": [
    {
     "data": {
      "image/png": "[encoded data removed]",
      "text/plain": [
       "<Figure size 1200x600 with 1 Axes>"
      ]
     },
     "metadata": {},
     "output_type": "display_data"
    }
   ],
   "source": [
    "monthly_sales = df.groupby(['year', 'month'])['Sales'].sum().reset_index()\n",
    "plt.figure(figsize=(12, 6))\n",
    "sns.lineplot(data=monthly_sales, x='month', y='Sales', hue='year', marker='o')\n",
    "plt.title('Monthly Sales Trends')\n",
    "plt.xticks(range(1, 13), labels=['Jan', 'Feb', 'Mar', 'Apr', 'May', 'Jun', 'Jul', 'Aug', 'Sep', 'Oct', 'Nov', 'Dec'])\n",
    "plt.grid()\n"
   ]
  },
  {
   "cell_type": "code",
   "execution_count": null,
   "id": "2f239a77",
   "metadata": {},
   "outputs": [
    {
     "data": {
      "text/plain": [
       "Text(0.5, 1.0, 'Correlation Heatmap')"
      ]
     },
     "execution_count": 35,
     "metadata": {},
     "output_type": "execute_result"
    },
    {
     "data": {
      "image/png": "[encoded data removed]",
      "text/plain": [
       "<Figure size 1000x800 with 2 Axes>"
      ]
     },
     "metadata": {},
     "output_type": "display_data"
    }
   ],
   "source": [
    "numerical_cols = ['Units Sold', 'Price', 'Discount', 'Demand Forecast', 'Competitor Pricing', \"Inventory Level\", 'Units Ordered', \"Holiday/Promotion\", \"Sales\"]\n",
    "corr_matrix = df[numerical_cols].corr()\n",
    "plt.figure(figsize=(10, 8))\n",
    "sns.heatmap(corr_matrix, annot=True, cmap='coolwarm', center=0)\n",
    "plt.title('Correlation Heatmap')\n"
   ]
  },
  {
   "cell_type": "code",
   "execution_count": null,
   "id": "53e96bfd",
   "metadata": {},
   "outputs": [
    {
     "data": {
      "image/png": "[encoded data removed]",
      "text/plain": [
       "<Figure size 1200x600 with 1 Axes>"
      ]
     },
     "metadata": {},
     "output_type": "display_data"
    }
   ],
   "source": [
    "plt.figure(figsize=(12, 6))\n",
    "sns.boxplot(data=df, x='month', y='Sales')\n",
    "plt.title('Monthly Sales Distribution')\n",
    "plt.xticks(range(12), ['Jan', 'Feb', 'Mar', 'Apr', 'May', 'Jun', 'Jul', 'Aug', 'Sep', 'Oct', 'Nov', 'Dec'])\n",
    "plt.show()"
   ]
  },
  {
   "cell_type": "code",
   "execution_count": null,
   "id": "427787e0",
   "metadata": {},
   "outputs": [
    {
     "data": {
      "image/png": "[encoded data removed]",
      "text/plain": [
       "<Figure size 800x500 with 1 Axes>"
      ]
     },
     "metadata": {},
     "output_type": "display_data"
    }
   ],
   "source": [
    "weather_sales = df.groupby('Weather Condition')['Sales'].mean().reset_index()\n",
    "plt.figure(figsize=(8, 5))\n",
    "sns.barplot(data=weather_sales, x='Weather Condition', y='Sales', )\n",
    "plt.title('Average Sales by Weather Condition')\n",
    "plt.show()"
   ]
  },
  {
   "cell_type": "code",
   "execution_count": null,
   "id": "b6e0d4f2",
   "metadata": {},
   "outputs": [
    {
     "data": {
      "application/vnd.plotly.v1+json": {
       "config": {
        "plotlyServerURL": "https://plot.ly"
       },
       "data": [
        {
         "hovertemplate": "Month=%{x}<br>Units Sold=%{y}<extra></extra>",
         "legendgroup": "",
         "line": {
          "color": "#636efa",
          "dash": "solid"
         },
         "marker": {
          "symbol": "circle"
         },
         "mode": "lines+markers",
         "name": "",
         "orientation": "v",
         "showlegend": false,
         "type": "scatter",
         "x": [
          1,
          2,
          3,
          4,
          5,
          6,
          7,
          8,
          9,
          10,
          11,
          12
         ],
         "xaxis": "x",
         "y": [
          856409,
          776084,
          842467,
          808274,
          833311,
          820999,
          864377,
          841273,
          816775,
          852309,
          830514,
          830830
         ],
         "yaxis": "y"
        }
       ],
       "layout": {
        "legend": {
         "tracegroupgap": 0
        },
        "template": {
         "data": {
          "bar": [
           {
            "error_x": {
             "color": "#2a3f5f"
            },
            "error_y": {
             "color": "#2a3f5f"
            },
            "marker": {
             "line": {
              "color": "#E5ECF6",
              "width": 0.5
             },
             "pattern": {
              "fillmode": "overlay",
              "size": 10,
              "solidity": 0.2
             }
            },
            "type": "bar"
           }
          ],
          "barpolar": [
           {
            "marker": {
             "line": {
              "color": "#E5ECF6",
              "width": 0.5
             },
             "pattern": {
              "fillmode": "overlay",
              "size": 10,
              "solidity": 0.2
             }
            },
            "type": "barpolar"
           }
          ],
          "carpet": [
           {
            "aaxis": {
             "endlinecolor": "#2a3f5f",
             "gridcolor": "white",
             "linecolor": "white",
             "minorgridcolor": "white",
             "startlinecolor": "#2a3f5f"
            },
            "baxis": {
             "endlinecolor": "#2a3f5f",
             "gridcolor": "white",
             "linecolor": "white",
             "minorgridcolor": "white",
             "startlinecolor": "#2a3f5f"
            },
            "type": "carpet"
           }
          ],
          "choropleth": [
           {
            "colorbar": {
             "outlinewidth": 0,
             "ticks": ""
            },
            "type": "choropleth"
           }
          ],
          "contour": [
           {
            "colorbar": {
             "outlinewidth": 0,
             "ticks": ""
            },
            "colorscale": [
             [
              0,
              "#0d0887"
             ],
             [
              0.1111111111111111,
              "#46039f"
             ],
             [
              0.2222222222222222,
              "#7201a8"
             ],
             [
              0.3333333333333333,
              "#9c179e"
             ],
             [
              0.4444444444444444,
              "#bd3786"
             ],
             [
              0.5555555555555556,
              "#d8576b"
             ],
             [
              0.6666666666666666,
              "#ed7953"
             ],
             [
              0.7777777777777778,
              "#fb9f3a"
             ],
             [
              0.8888888888888888,
              "#fdca26"
             ],
             [
              1,
              "#f0f921"
             ]
            ],
            "type": "contour"
           }
          ],
          "contourcarpet": [
           {
            "colorbar": {
             "outlinewidth": 0,
             "ticks": ""
            },
            "type": "contourcarpet"
           }
          ],
          "heatmap": [
           {
            "colorbar": {
             "outlinewidth": 0,
             "ticks": ""
            },
            "colorscale": [
             [
              0,
              "#0d0887"
             ],
             [
              0.1111111111111111,
              "#46039f"
             ],
             [
              0.2222222222222222,
              "#7201a8"
             ],
             [
              0.3333333333333333,
              "#9c179e"
             ],
             [
              0.4444444444444444,
              "#bd3786"
             ],
             [
              0.5555555555555556,
              "#d8576b"
             ],
             [
              0.6666666666666666,
              "#ed7953"
             ],
             [
              0.7777777777777778,
              "#fb9f3a"
             ],
             [
              0.8888888888888888,
              "#fdca26"
             ],
             [
              1,
              "#f0f921"
             ]
            ],
            "type": "heatmap"
           }
          ],
          "heatmapgl": [
           {
            "colorbar": {
             "outlinewidth": 0,
             "ticks": ""
            },
            "colorscale": [
             [
              0,
              "#0d0887"
             ],
             [
              0.1111111111111111,
              "#46039f"
             ],
             [
              0.2222222222222222,
              "#7201a8"
             ],
             [
              0.3333333333333333,
              "#9c179e"
             ],
             [
              0.4444444444444444,
              "#bd3786"
             ],
             [
              0.5555555555555556,
              "#d8576b"
             ],
             [
              0.6666666666666666,
              "#ed7953"
             ],
             [
              0.7777777777777778,
              "#fb9f3a"
             ],
             [
              0.8888888888888888,
              "#fdca26"
             ],
             [
              1,
              "#f0f921"
             ]
            ],
            "type": "heatmapgl"
           }
          ],
          "histogram": [
           {
            "marker": {
             "pattern": {
              "fillmode": "overlay",
              "size": 10,
              "solidity": 0.2
             }
            },
            "type": "histogram"
           }
          ],
          "histogram2d": [
           {
            "colorbar": {
             "outlinewidth": 0,
             "ticks": ""
            },
            "colorscale": [
             [
              0,
              "#0d0887"
             ],
             [
              0.1111111111111111,
              "#46039f"
             ],
             [
              0.2222222222222222,
              "#7201a8"
             ],
             [
              0.3333333333333333,
              "#9c179e"
             ],
             [
              0.4444444444444444,
              "#bd3786"
             ],
             [
              0.5555555555555556,
              "#d8576b"
             ],
             [
              0.6666666666666666,
              "#ed7953"
             ],
             [
              0.7777777777777778,
              "#fb9f3a"
             ],
             [
              0.8888888888888888,
              "#fdca26"
             ],
             [
              1,
              "#f0f921"
             ]
            ],
            "type": "histogram2d"
           }
          ],
          "histogram2dcontour": [
           {
            "colorbar": {
             "outlinewidth": 0,
             "ticks": ""
            },
            "colorscale": [
             [
              0,
              "#0d0887"
             ],
             [
              0.1111111111111111,
              "#46039f"
             ],
             [
              0.2222222222222222,
              "#7201a8"
             ],
             [
              0.3333333333333333,
              "#9c179e"
             ],
             [
              0.4444444444444444,
              "#bd3786"
             ],
             [
              0.5555555555555556,
              "#d8576b"
             ],
             [
              0.6666666666666666,
              "#ed7953"
             ],
             [
              0.7777777777777778,
              "#fb9f3a"
             ],
             [
              0.8888888888888888,
              "#fdca26"
             ],
             [
              1,
              "#f0f921"
             ]
            ],
            "type": "histogram2dcontour"
           }
          ],
          "mesh3d": [
           {
            "colorbar": {
             "outlinewidth": 0,
             "ticks": ""
            },
            "type": "mesh3d"
           }
          ],
          "parcoords": [
           {
            "line": {
             "colorbar": {
              "outlinewidth": 0,
              "ticks": ""
             }
            },
            "type": "parcoords"
           }
          ],
          "pie": [
           {
            "automargin": true,
            "type": "pie"
           }
          ],
          "scatter": [
           {
            "fillpattern": {
             "fillmode": "overlay",
             "size": 10,
             "solidity": 0.2
            },
            "type": "scatter"
           }
          ],
          "scatter3d": [
           {
            "line": {
             "colorbar": {
              "outlinewidth": 0,
              "ticks": ""
             }
            },
            "marker": {
             "colorbar": {
              "outlinewidth": 0,
              "ticks": ""
             }
            },
            "type": "scatter3d"
           }
          ],
          "scattercarpet": [
           {
            "marker": {
             "colorbar": {
              "outlinewidth": 0,
              "ticks": ""
             }
            },
            "type": "scattercarpet"
           }
          ],
          "scattergeo": [
           {
            "marker": {
             "colorbar": {
              "outlinewidth": 0,
              "ticks": ""
             }
            },
            "type": "scattergeo"
           }
          ],
          "scattergl": [
           {
            "marker": {
             "colorbar": {
              "outlinewidth": 0,
              "ticks": ""
             }
            },
            "type": "scattergl"
           }
          ],
          "scattermapbox": [
           {
            "marker": {
             "colorbar": {
              "outlinewidth": 0,
              "ticks": ""
             }
            },
            "type": "scattermapbox"
           }
          ],
          "scatterpolar": [
           {
            "marker": {
             "colorbar": {
              "outlinewidth": 0,
              "ticks": ""
             }
            },
            "type": "scatterpolar"
           }
          ],
          "scatterpolargl": [
           {
            "marker": {
             "colorbar": {
              "outlinewidth": 0,
              "ticks": ""
             }
            },
            "type": "scatterpolargl"
           }
          ],
          "scatterternary": [
           {
            "marker": {
             "colorbar": {
              "outlinewidth": 0,
              "ticks": ""
             }
            },
            "type": "scatterternary"
           }
          ],
          "surface": [
           {
            "colorbar": {
             "outlinewidth": 0,
             "ticks": ""
            },
            "colorscale": [
             [
              0,
              "#0d0887"
             ],
             [
              0.1111111111111111,
              "#46039f"
             ],
             [
              0.2222222222222222,
              "#7201a8"
             ],
             [
              0.3333333333333333,
              "#9c179e"
             ],
             [
              0.4444444444444444,
              "#bd3786"
             ],
             [
              0.5555555555555556,
              "#d8576b"
             ],
             [
              0.6666666666666666,
              "#ed7953"
             ],
             [
              0.7777777777777778,
              "#fb9f3a"
             ],
             [
              0.8888888888888888,
              "#fdca26"
             ],
             [
              1,
              "#f0f921"
             ]
            ],
            "type": "surface"
           }
          ],
          "table": [
           {
            "cells": {
             "fill": {
              "color": "#EBF0F8"
             },
             "line": {
              "color": "white"
             }
            },
            "header": {
             "fill": {
              "color": "#C8D4E3"
             },
             "line": {
              "color": "white"
             }
            },
            "type": "table"
           }
          ]
         },
         "layout": {
          "annotationdefaults": {
           "arrowcolor": "#2a3f5f",
           "arrowhead": 0,
           "arrowwidth": 1
          },
          "autotypenumbers": "strict",
          "coloraxis": {
           "colorbar": {
            "outlinewidth": 0,
            "ticks": ""
           }
          },
          "colorscale": {
           "diverging": [
            [
             0,
             "#8e0152"
            ],
            [
             0.1,
             "#c51b7d"
            ],
            [
             0.2,
             "#de77ae"
            ],
            [
             0.3,
             "#f1b6da"
            ],
            [
             0.4,
             "#fde0ef"
            ],
            [
             0.5,
             "#f7f7f7"
            ],
            [
             0.6,
             "#e6f5d0"
            ],
            [
             0.7,
             "#b8e186"
            ],
            [
             0.8,
             "#7fbc41"
            ],
            [
             0.9,
             "#4d9221"
            ],
            [
             1,
             "#276419"
            ]
           ],
           "sequential": [
            [
             0,
             "#0d0887"
            ],
            [
             0.1111111111111111,
             "#46039f"
            ],
            [
             0.2222222222222222,
             "#7201a8"
            ],
            [
             0.3333333333333333,
             "#9c179e"
            ],
            [
             0.4444444444444444,
             "#bd3786"
            ],
            [
             0.5555555555555556,
             "#d8576b"
            ],
            [
             0.6666666666666666,
             "#ed7953"
            ],
            [
             0.7777777777777778,
             "#fb9f3a"
            ],
            [
             0.8888888888888888,
             "#fdca26"
            ],
            [
             1,
             "#f0f921"
            ]
           ],
           "sequentialminus": [
            [
             0,
             "#0d0887"
            ],
            [
             0.1111111111111111,
             "#46039f"
            ],
            [
             0.2222222222222222,
             "#7201a8"
            ],
            [
             0.3333333333333333,
             "#9c179e"
            ],
            [
             0.4444444444444444,
             "#bd3786"
            ],
            [
             0.5555555555555556,
             "#d8576b"
            ],
            [
             0.6666666666666666,
             "#ed7953"
            ],
            [
             0.7777777777777778,
             "#fb9f3a"
            ],
            [
             0.8888888888888888,
             "#fdca26"
            ],
            [
             1,
             "#f0f921"
            ]
           ]
          },
          "colorway": [
           "#636efa",
           "#EF553B",
           "#00cc96",
           "#ab63fa",
           "#FFA15A",
           "#19d3f3",
           "#FF6692",
           "#B6E880",
           "#FF97FF",
           "#FECB52"
          ],
          "font": {
           "color": "#2a3f5f"
          },
          "geo": {
           "bgcolor": "white",
           "lakecolor": "white",
           "landcolor": "#E5ECF6",
           "showlakes": true,
           "showland": true,
           "subunitcolor": "white"
          },
          "hoverlabel": {
           "align": "left"
          },
          "hovermode": "closest",
          "mapbox": {
           "style": "light"
          },
          "paper_bgcolor": "white",
          "plot_bgcolor": "#E5ECF6",
          "polar": {
           "angularaxis": {
            "gridcolor": "white",
            "linecolor": "white",
            "ticks": ""
           },
           "bgcolor": "#E5ECF6",
           "radialaxis": {
            "gridcolor": "white",
            "linecolor": "white",
            "ticks": ""
           }
          },
          "scene": {
           "xaxis": {
            "backgroundcolor": "#E5ECF6",
            "gridcolor": "white",
            "gridwidth": 2,
            "linecolor": "white",
            "showbackground": true,
            "ticks": "",
            "zerolinecolor": "white"
           },
           "yaxis": {
            "backgroundcolor": "#E5ECF6",
            "gridcolor": "white",
            "gridwidth": 2,
            "linecolor": "white",
            "showbackground": true,
            "ticks": "",
            "zerolinecolor": "white"
           },
           "zaxis": {
            "backgroundcolor": "#E5ECF6",
            "gridcolor": "white",
            "gridwidth": 2,
            "linecolor": "white",
            "showbackground": true,
            "ticks": "",
            "zerolinecolor": "white"
           }
          },
          "shapedefaults": {
           "line": {
            "color": "#2a3f5f"
           }
          },
          "ternary": {
           "aaxis": {
            "gridcolor": "white",
            "linecolor": "white",
            "ticks": ""
           },
           "baxis": {
            "gridcolor": "white",
            "linecolor": "white",
            "ticks": ""
           },
           "bgcolor": "#E5ECF6",
           "caxis": {
            "gridcolor": "white",
            "linecolor": "white",
            "ticks": ""
           }
          },
          "title": {
           "x": 0.05
          },
          "xaxis": {
           "automargin": true,
           "gridcolor": "white",
           "linecolor": "white",
           "ticks": "",
           "title": {
            "standoff": 15
           },
           "zerolinecolor": "white",
           "zerolinewidth": 2
          },
          "yaxis": {
           "automargin": true,
           "gridcolor": "white",
           "linecolor": "white",
           "ticks": "",
           "title": {
            "standoff": 15
           },
           "zerolinecolor": "white",
           "zerolinewidth": 2
          }
         }
        },
        "title": {
         "text": "Monthly Sales"
        },
        "xaxis": {
         "anchor": "y",
         "domain": [
          0,
          1
         ],
         "tickmode": "linear",
         "title": {
          "text": "Month"
         }
        },
        "yaxis": {
         "anchor": "x",
         "domain": [
          0,
          1
         ],
         "title": {
          "text": "Units Sold"
         }
        }
       }
      }
     },
     "metadata": {},
     "output_type": "display_data"
    }
   ],
   "source": [
    "monthly_sales = df.groupby('month')['Units Sold'].sum().reset_index()\n",
    "fig = px.line(monthly_sales, x='month', y='Units Sold', title='Monthly Sales', labels={'month': 'Month', 'Sales': 'Total Sales'})\n",
    "fig.update_traces(mode='lines+markers')\n",
    "fig.update_layout(xaxis=dict(tickmode='linear'))\n",
    "fig.show()"
   ]
  },
  {
   "cell_type": "code",
   "execution_count": null,
   "id": "322baa54",
   "metadata": {},
   "outputs": [
    {
     "data": {
      "application/vnd.plotly.v1+json": {
       "config": {
        "plotlyServerURL": "https://plot.ly"
       },
       "data": [
        {
         "hovertemplate": "dayofweek=%{x}<br>Sales=%{y}<extra></extra>",
         "legendgroup": "",
         "line": {
          "color": "#636efa",
          "dash": "solid"
         },
         "marker": {
          "symbol": "circle"
         },
         "mode": "lines",
         "name": "",
         "orientation": "v",
         "showlegend": false,
         "type": "scatter",
         "x": [
          "Mon",
          "Tue",
          "Wed",
          "Thu",
          "Fri",
          "Sat",
          "Sun"
         ],
         "xaxis": "x",
         "y": [
          7481.462205910574,
          7539.144623822929,
          7582.613728172294,
          7651.273573234779,
          7648.685313045164,
          7542.871788187765,
          7653.317873076922
         ],
         "yaxis": "y"
        }
       ],
       "layout": {
        "legend": {
         "tracegroupgap": 0
        },
        "template": {
         "data": {
          "bar": [
           {
            "error_x": {
             "color": "#2a3f5f"
            },
            "error_y": {
             "color": "#2a3f5f"
            },
            "marker": {
             "line": {
              "color": "#E5ECF6",
              "width": 0.5
             },
             "pattern": {
              "fillmode": "overlay",
              "size": 10,
              "solidity": 0.2
             }
            },
            "type": "bar"
           }
          ],
          "barpolar": [
           {
            "marker": {
             "line": {
              "color": "#E5ECF6",
              "width": 0.5
             },
             "pattern": {
              "fillmode": "overlay",
              "size": 10,
              "solidity": 0.2
             }
            },
            "type": "barpolar"
           }
          ],
          "carpet": [
           {
            "aaxis": {
             "endlinecolor": "#2a3f5f",
             "gridcolor": "white",
             "linecolor": "white",
             "minorgridcolor": "white",
             "startlinecolor": "#2a3f5f"
            },
            "baxis": {
             "endlinecolor": "#2a3f5f",
             "gridcolor": "white",
             "linecolor": "white",
             "minorgridcolor": "white",
             "startlinecolor": "#2a3f5f"
            },
            "type": "carpet"
           }
          ],
          "choropleth": [
           {
            "colorbar": {
             "outlinewidth": 0,
             "ticks": ""
            },
            "type": "choropleth"
           }
          ],
          "contour": [
           {
            "colorbar": {
             "outlinewidth": 0,
             "ticks": ""
            },
            "colorscale": [
             [
              0,
              "#0d0887"
             ],
             [
              0.1111111111111111,
              "#46039f"
             ],
             [
              0.2222222222222222,
              "#7201a8"
             ],
             [
              0.3333333333333333,
              "#9c179e"
             ],
             [
              0.4444444444444444,
              "#bd3786"
             ],
             [
              0.5555555555555556,
              "#d8576b"
             ],
             [
              0.6666666666666666,
              "#ed7953"
             ],
             [
              0.7777777777777778,
              "#fb9f3a"
             ],
             [
              0.8888888888888888,
              "#fdca26"
             ],
             [
              1,
              "#f0f921"
             ]
            ],
            "type": "contour"
           }
          ],
          "contourcarpet": [
           {
            "colorbar": {
             "outlinewidth": 0,
             "ticks": ""
            },
            "type": "contourcarpet"
           }
          ],
          "heatmap": [
           {
            "colorbar": {
             "outlinewidth": 0,
             "ticks": ""
            },
            "colorscale": [
             [
              0,
              "#0d0887"
             ],
             [
              0.1111111111111111,
              "#46039f"
             ],
             [
              0.2222222222222222,
              "#7201a8"
             ],
             [
              0.3333333333333333,
              "#9c179e"
             ],
             [
              0.4444444444444444,
              "#bd3786"
             ],
             [
              0.5555555555555556,
              "#d8576b"
             ],
             [
              0.6666666666666666,
              "#ed7953"
             ],
             [
              0.7777777777777778,
              "#fb9f3a"
             ],
             [
              0.8888888888888888,
              "#fdca26"
             ],
             [
              1,
              "#f0f921"
             ]
            ],
            "type": "heatmap"
           }
          ],
          "heatmapgl": [
           {
            "colorbar": {
             "outlinewidth": 0,
             "ticks": ""
            },
            "colorscale": [
             [
              0,
              "#0d0887"
             ],
             [
              0.1111111111111111,
              "#46039f"
             ],
             [
              0.2222222222222222,
              "#7201a8"
             ],
             [
              0.3333333333333333,
              "#9c179e"
             ],
             [
              0.4444444444444444,
              "#bd3786"
             ],
             [
              0.5555555555555556,
              "#d8576b"
             ],
             [
              0.6666666666666666,
              "#ed7953"
             ],
             [
              0.7777777777777778,
              "#fb9f3a"
             ],
             [
              0.8888888888888888,
              "#fdca26"
             ],
             [
              1,
              "#f0f921"
             ]
            ],
            "type": "heatmapgl"
           }
          ],
          "histogram": [
           {
            "marker": {
             "pattern": {
              "fillmode": "overlay",
              "size": 10,
              "solidity": 0.2
             }
            },
            "type": "histogram"
           }
          ],
          "histogram2d": [
           {
            "colorbar": {
             "outlinewidth": 0,
             "ticks": ""
            },
            "colorscale": [
             [
              0,
              "#0d0887"
             ],
             [
              0.1111111111111111,
              "#46039f"
             ],
             [
              0.2222222222222222,
              "#7201a8"
             ],
             [
              0.3333333333333333,
              "#9c179e"
             ],
             [
              0.4444444444444444,
              "#bd3786"
             ],
             [
              0.5555555555555556,
              "#d8576b"
             ],
             [
              0.6666666666666666,
              "#ed7953"
             ],
             [
              0.7777777777777778,
              "#fb9f3a"
             ],
             [
              0.8888888888888888,
              "#fdca26"
             ],
             [
              1,
              "#f0f921"
             ]
            ],
            "type": "histogram2d"
           }
          ],
          "histogram2dcontour": [
           {
            "colorbar": {
             "outlinewidth": 0,
             "ticks": ""
            },
            "colorscale": [
             [
              0,
              "#0d0887"
             ],
             [
              0.1111111111111111,
              "#46039f"
             ],
             [
              0.2222222222222222,
              "#7201a8"
             ],
             [
              0.3333333333333333,
              "#9c179e"
             ],
             [
              0.4444444444444444,
              "#bd3786"
             ],
             [
              0.5555555555555556,
              "#d8576b"
             ],
             [
              0.6666666666666666,
              "#ed7953"
             ],
             [
              0.7777777777777778,
              "#fb9f3a"
             ],
             [
              0.8888888888888888,
              "#fdca26"
             ],
             [
              1,
              "#f0f921"
             ]
            ],
            "type": "histogram2dcontour"
           }
          ],
          "mesh3d": [
           {
            "colorbar": {
             "outlinewidth": 0,
             "ticks": ""
            },
            "type": "mesh3d"
           }
          ],
          "parcoords": [
           {
            "line": {
             "colorbar": {
              "outlinewidth": 0,
              "ticks": ""
             }
            },
            "type": "parcoords"
           }
          ],
          "pie": [
           {
            "automargin": true,
            "type": "pie"
           }
          ],
          "scatter": [
           {
            "fillpattern": {
             "fillmode": "overlay",
             "size": 10,
             "solidity": 0.2
            },
            "type": "scatter"
           }
          ],
          "scatter3d": [
           {
            "line": {
             "colorbar": {
              "outlinewidth": 0,
              "ticks": ""
             }
            },
            "marker": {
             "colorbar": {
              "outlinewidth": 0,
              "ticks": ""
             }
            },
            "type": "scatter3d"
           }
          ],
          "scattercarpet": [
           {
            "marker": {
             "colorbar": {
              "outlinewidth": 0,
              "ticks": ""
             }
            },
            "type": "scattercarpet"
           }
          ],
          "scattergeo": [
           {
            "marker": {
             "colorbar": {
              "outlinewidth": 0,
              "ticks": ""
             }
            },
            "type": "scattergeo"
           }
          ],
          "scattergl": [
           {
            "marker": {
             "colorbar": {
              "outlinewidth": 0,
              "ticks": ""
             }
            },
            "type": "scattergl"
           }
          ],
          "scattermapbox": [
           {
            "marker": {
             "colorbar": {
              "outlinewidth": 0,
              "ticks": ""
             }
            },
            "type": "scattermapbox"
           }
          ],
          "scatterpolar": [
           {
            "marker": {
             "colorbar": {
              "outlinewidth": 0,
              "ticks": ""
             }
            },
            "type": "scatterpolar"
           }
          ],
          "scatterpolargl": [
           {
            "marker": {
             "colorbar": {
              "outlinewidth": 0,
              "ticks": ""
             }
            },
            "type": "scatterpolargl"
           }
          ],
          "scatterternary": [
           {
            "marker": {
             "colorbar": {
              "outlinewidth": 0,
              "ticks": ""
             }
            },
            "type": "scatterternary"
           }
          ],
          "surface": [
           {
            "colorbar": {
             "outlinewidth": 0,
             "ticks": ""
            },
            "colorscale": [
             [
              0,
              "#0d0887"
             ],
             [
              0.1111111111111111,
              "#46039f"
             ],
             [
              0.2222222222222222,
              "#7201a8"
             ],
             [
              0.3333333333333333,
              "#9c179e"
             ],
             [
              0.4444444444444444,
              "#bd3786"
             ],
             [
              0.5555555555555556,
              "#d8576b"
             ],
             [
              0.6666666666666666,
              "#ed7953"
             ],
             [
              0.7777777777777778,
              "#fb9f3a"
             ],
             [
              0.8888888888888888,
              "#fdca26"
             ],
             [
              1,
              "#f0f921"
             ]
            ],
            "type": "surface"
           }
          ],
          "table": [
           {
            "cells": {
             "fill": {
              "color": "#EBF0F8"
             },
             "line": {
              "color": "white"
             }
            },
            "header": {
             "fill": {
              "color": "#C8D4E3"
             },
             "line": {
              "color": "white"
             }
            },
            "type": "table"
           }
          ]
         },
         "layout": {
          "annotationdefaults": {
           "arrowcolor": "#2a3f5f",
           "arrowhead": 0,
           "arrowwidth": 1
          },
          "autotypenumbers": "strict",
          "coloraxis": {
           "colorbar": {
            "outlinewidth": 0,
            "ticks": ""
           }
          },
          "colorscale": {
           "diverging": [
            [
             0,
             "#8e0152"
            ],
            [
             0.1,
             "#c51b7d"
            ],
            [
             0.2,
             "#de77ae"
            ],
            [
             0.3,
             "#f1b6da"
            ],
            [
             0.4,
             "#fde0ef"
            ],
            [
             0.5,
             "#f7f7f7"
            ],
            [
             0.6,
             "#e6f5d0"
            ],
            [
             0.7,
             "#b8e186"
            ],
            [
             0.8,
             "#7fbc41"
            ],
            [
             0.9,
             "#4d9221"
            ],
            [
             1,
             "#276419"
            ]
           ],
           "sequential": [
            [
             0,
             "#0d0887"
            ],
            [
             0.1111111111111111,
             "#46039f"
            ],
            [
             0.2222222222222222,
             "#7201a8"
            ],
            [
             0.3333333333333333,
             "#9c179e"
            ],
            [
             0.4444444444444444,
             "#bd3786"
            ],
            [
             0.5555555555555556,
             "#d8576b"
            ],
            [
             0.6666666666666666,
             "#ed7953"
            ],
            [
             0.7777777777777778,
             "#fb9f3a"
            ],
            [
             0.8888888888888888,
             "#fdca26"
            ],
            [
             1,
             "#f0f921"
            ]
           ],
           "sequentialminus": [
            [
             0,
             "#0d0887"
            ],
            [
             0.1111111111111111,
             "#46039f"
            ],
            [
             0.2222222222222222,
             "#7201a8"
            ],
            [
             0.3333333333333333,
             "#9c179e"
            ],
            [
             0.4444444444444444,
             "#bd3786"
            ],
            [
             0.5555555555555556,
             "#d8576b"
            ],
            [
             0.6666666666666666,
             "#ed7953"
            ],
            [
             0.7777777777777778,
             "#fb9f3a"
            ],
            [
             0.8888888888888888,
             "#fdca26"
            ],
            [
             1,
             "#f0f921"
            ]
           ]
          },
          "colorway": [
           "#636efa",
           "#EF553B",
           "#00cc96",
           "#ab63fa",
           "#FFA15A",
           "#19d3f3",
           "#FF6692",
           "#B6E880",
           "#FF97FF",
           "#FECB52"
          ],
          "font": {
           "color": "#2a3f5f"
          },
          "geo": {
           "bgcolor": "white",
           "lakecolor": "white",
           "landcolor": "#E5ECF6",
           "showlakes": true,
           "showland": true,
           "subunitcolor": "white"
          },
          "hoverlabel": {
           "align": "left"
          },
          "hovermode": "closest",
          "mapbox": {
           "style": "light"
          },
          "paper_bgcolor": "white",
          "plot_bgcolor": "#E5ECF6",
          "polar": {
           "angularaxis": {
            "gridcolor": "white",
            "linecolor": "white",
            "ticks": ""
           },
           "bgcolor": "#E5ECF6",
           "radialaxis": {
            "gridcolor": "white",
            "linecolor": "white",
            "ticks": ""
           }
          },
          "scene": {
           "xaxis": {
            "backgroundcolor": "#E5ECF6",
            "gridcolor": "white",
            "gridwidth": 2,
            "linecolor": "white",
            "showbackground": true,
            "ticks": "",
            "zerolinecolor": "white"
           },
           "yaxis": {
            "backgroundcolor": "#E5ECF6",
            "gridcolor": "white",
            "gridwidth": 2,
            "linecolor": "white",
            "showbackground": true,
            "ticks": "",
            "zerolinecolor": "white"
           },
           "zaxis": {
            "backgroundcolor": "#E5ECF6",
            "gridcolor": "white",
            "gridwidth": 2,
            "linecolor": "white",
            "showbackground": true,
            "ticks": "",
            "zerolinecolor": "white"
           }
          },
          "shapedefaults": {
           "line": {
            "color": "#2a3f5f"
           }
          },
          "ternary": {
           "aaxis": {
            "gridcolor": "white",
            "linecolor": "white",
            "ticks": ""
           },
           "baxis": {
            "gridcolor": "white",
            "linecolor": "white",
            "ticks": ""
           },
           "bgcolor": "#E5ECF6",
           "caxis": {
            "gridcolor": "white",
            "linecolor": "white",
            "ticks": ""
           }
          },
          "title": {
           "x": 0.05
          },
          "xaxis": {
           "automargin": true,
           "gridcolor": "white",
           "linecolor": "white",
           "ticks": "",
           "title": {
            "standoff": 15
           },
           "zerolinecolor": "white",
           "zerolinewidth": 2
          },
          "yaxis": {
           "automargin": true,
           "gridcolor": "white",
           "linecolor": "white",
           "ticks": "",
           "title": {
            "standoff": 15
           },
           "zerolinecolor": "white",
           "zerolinewidth": 2
          }
         }
        },
        "title": {
         "text": "Average Sales by Day of the Week"
        },
        "xaxis": {
         "anchor": "y",
         "domain": [
          0,
          1
         ],
         "title": {
          "text": "dayofweek"
         }
        },
        "yaxis": {
         "anchor": "x",
         "domain": [
          0,
          1
         ],
         "title": {
          "text": "Sales"
         }
        }
       }
      }
     },
     "metadata": {},
     "output_type": "display_data"
    }
   ],
   "source": [
    "dow_sales = df.groupby('dayofweek')['Sales'].mean().reset_index()\n",
    "dow_map = ['Mon', 'Tue', 'Wed', 'Thu', 'Fri', 'Sat', 'Sun']\n",
    "dow_sales['dayofweek'] = dow_sales['dayofweek'].map(dict(enumerate(dow_map)))\n",
    "\n",
    "fig = px.line(dow_sales, x='dayofweek', y='Sales', title='Average Sales by Day of the Week')\n",
    "fig.show()\n"
   ]
  },
  {
   "cell_type": "code",
   "execution_count": null,
   "id": "8483db8f",
   "metadata": {},
   "outputs": [
    {
     "name": "stdout",
     "output_type": "stream",
     "text": [
      "<class 'pandas.core.frame.DataFrame'>\n",
      "Index: 72427 entries, 0 to 73099\n",
      "Data columns (total 19 columns):\n",
      " #   Column              Non-Null Count  Dtype         \n",
      "---  ------              --------------  -----         \n",
      " 0   Date                72427 non-null  datetime64[ns]\n",
      " 1   Store ID            72427 non-null  object        \n",
      " 2   Product ID          72427 non-null  object        \n",
      " 3   Category            72427 non-null  object        \n",
      " 4   Region              72427 non-null  object        \n",
      " 5   Inventory Level     72427 non-null  int64         \n",
      " 6   Units Sold          72427 non-null  int64         \n",
      " 7   Units Ordered       72427 non-null  int64         \n",
      " 8   Demand Forecast     72427 non-null  float64       \n",
      " 9   Price               72427 non-null  float64       \n",
      " 10  Discount            72427 non-null  int64         \n",
      " 11  Weather Condition   72427 non-null  object        \n",
      " 12  Holiday/Promotion   72427 non-null  int64         \n",
      " 13  Competitor Pricing  72427 non-null  float64       \n",
      " 14  Seasonality         72427 non-null  object        \n",
      " 15  Sales               72427 non-null  float64       \n",
      " 16  year                72427 non-null  int32         \n",
      " 17  month               72427 non-null  int32         \n",
      " 18  dayofweek           72427 non-null  int32         \n",
      "dtypes: datetime64[ns](1), float64(4), int32(3), int64(5), object(6)\n",
      "memory usage: 10.2+ MB\n"
     ]
    }
   ],
   "source": [
    "df.info()"
   ]
  },
  {
   "cell_type": "code",
   "execution_count": null,
   "id": "a52812ac",
   "metadata": {},
   "outputs": [],
   "source": [
    "df.to_csv(\"retail_store_inventory_cleaned.csv\", index=False)"
   ]
  },
  {
   "cell_type": "code",
   "execution_count": null,
   "id": "8374d5c3",
   "metadata": {},
   "outputs": [],
   "source": []
  },
  {
   "cell_type": "code",
   "execution_count": null,
   "id": "32184c59",
   "metadata": {},
   "outputs": [],
   "source": []
  }
 ],
 "metadata": {
  "kernelspec": {
   "display_name": "base",
   "language": "python",
   "name": "python3"
  },
  "language_info": {
   "codemirror_mode": {
    "name": "ipython",
    "version": 3
   },
   "file_extension": ".py",
   "mimetype": "text/x-python",
   "name": "python",
   "nbconvert_exporter": "python",
   "pygments_lexer": "ipython3",
   "version": "3.12.4"
  }
 },
 "nbformat": 4,
 "nbformat_minor": 5
}
